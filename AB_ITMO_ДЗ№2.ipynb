{
  "cells": [
    {
      "cell_type": "markdown",
      "metadata": {
        "id": "QTJTimgY8cxl"
      },
      "source": [
        "Выполнил: Кузьмин Андрей, tg: @thisismoto"
      ]
    },
    {
      "cell_type": "markdown",
      "metadata": {
        "id": "VkegmSuW8wQB"
      },
      "source": [
        "# ДЗ№2"
      ]
    },
    {
      "cell_type": "code",
      "execution_count": null,
      "metadata": {
        "id": "Be0gzjZ880Bt"
      },
      "outputs": [],
      "source": [
        "import numpy as np\n",
        "import scipy\n",
        "import matplotlib.pyplot as plt\n",
        "import scipy.stats as stats\n",
        "import statsmodels\n",
        "import statsmodels.sandbox.stats.multicomp\n",
        "import pandas as pd\n",
        "import datetime\n",
        "from statsmodels.stats.weightstats import ztest\n",
        "\n",
        "import matplotlib.pyplot as plt\n",
        "import seaborn as sns\n",
        "\n",
        "from tqdm import tqdm\n",
        "from sklearn.utils import shuffle\n",
        "import hashlib\n",
        "from base64 import b64encode\n",
        "import collections\n",
        "\n",
        "import warnings\n",
        "warnings.filterwarnings(\"ignore\")"
      ]
    },
    {
      "cell_type": "code",
      "execution_count": null,
      "metadata": {
        "id": "q9xwGLOA_ViU"
      },
      "outputs": [],
      "source": [
        "# !unzip data_ab_homework2-20250117T201629Z-001.zip"
      ]
    },
    {
      "cell_type": "code",
      "execution_count": null,
      "metadata": {
        "id": "YtVZ_-wQ_Zqr"
      },
      "outputs": [],
      "source": [
        "shop_metrics_new = pd.read_csv('data_ab_homework2/shop_df_metrics_dec.csv').drop(columns='Unnamed: 0')\n",
        "shop_metrics_old = pd.read_csv('data_ab_homework2/shop_df_metrics_sept.csv').drop(columns='Unnamed: 0')\n",
        "shop_users_info = pd.read_csv('data_ab_homework2/shop_df_users.csv').drop(columns='Unnamed: 0')"
      ]
    },
    {
      "cell_type": "code",
      "execution_count": null,
      "metadata": {
        "colab": {
          "base_uri": "https://localhost:8080/",
          "height": 178
        },
        "id": "HUqu0mDd_-rL",
        "outputId": "191dac83-5b73-440a-e713-4350509ea6dc"
      },
      "outputs": [
        {
          "data": {
            "text/plain": [
              "user_id      int64\n",
              "user_age     int64\n",
              "user_sex    object\n",
              "dtype: object"
            ]
          },
          "execution_count": 4,
          "metadata": {},
          "output_type": "execute_result"
        }
      ],
      "source": [
        "shop_users_info.dtypes"
      ]
    },
    {
      "cell_type": "code",
      "execution_count": null,
      "metadata": {
        "colab": {
          "base_uri": "https://localhost:8080/",
          "height": 206
        },
        "id": "BYSF5Cj-ABo6",
        "outputId": "7dbedcdb-467d-495e-c867-3382fbb6add2"
      },
      "outputs": [
        {
          "data": {
            "text/html": [
              "<div>\n",
              "<style scoped>\n",
              "    .dataframe tbody tr th:only-of-type {\n",
              "        vertical-align: middle;\n",
              "    }\n",
              "\n",
              "    .dataframe tbody tr th {\n",
              "        vertical-align: top;\n",
              "    }\n",
              "\n",
              "    .dataframe thead th {\n",
              "        text-align: right;\n",
              "    }\n",
              "</style>\n",
              "<table border=\"1\" class=\"dataframe\">\n",
              "  <thead>\n",
              "    <tr style=\"text-align: right;\">\n",
              "      <th></th>\n",
              "      <th>user_id</th>\n",
              "      <th>group</th>\n",
              "      <th>is_viewed</th>\n",
              "      <th>products_viewed_cnt</th>\n",
              "      <th>price_sum</th>\n",
              "      <th>is_cart_added</th>\n",
              "      <th>is_purchased</th>\n",
              "      <th>cart_added_cnt</th>\n",
              "      <th>purchased_cnt</th>\n",
              "    </tr>\n",
              "  </thead>\n",
              "  <tbody>\n",
              "    <tr>\n",
              "      <th>0</th>\n",
              "      <td>1515915625353230683</td>\n",
              "      <td>A</td>\n",
              "      <td>1</td>\n",
              "      <td>1</td>\n",
              "      <td>339.79</td>\n",
              "      <td>0.0</td>\n",
              "      <td>0.0</td>\n",
              "      <td>0</td>\n",
              "      <td>0</td>\n",
              "    </tr>\n",
              "    <tr>\n",
              "      <th>1</th>\n",
              "      <td>1515915625353234047</td>\n",
              "      <td>A</td>\n",
              "      <td>1</td>\n",
              "      <td>9</td>\n",
              "      <td>861.86</td>\n",
              "      <td>0.0</td>\n",
              "      <td>0.0</td>\n",
              "      <td>0</td>\n",
              "      <td>0</td>\n",
              "    </tr>\n",
              "    <tr>\n",
              "      <th>2</th>\n",
              "      <td>1515915625353236157</td>\n",
              "      <td>A</td>\n",
              "      <td>1</td>\n",
              "      <td>4</td>\n",
              "      <td>179.60</td>\n",
              "      <td>0.0</td>\n",
              "      <td>0.0</td>\n",
              "      <td>0</td>\n",
              "      <td>0</td>\n",
              "    </tr>\n",
              "    <tr>\n",
              "      <th>3</th>\n",
              "      <td>1515915625353294441</td>\n",
              "      <td>B</td>\n",
              "      <td>1</td>\n",
              "      <td>28</td>\n",
              "      <td>4283.04</td>\n",
              "      <td>0.0</td>\n",
              "      <td>0.0</td>\n",
              "      <td>0</td>\n",
              "      <td>0</td>\n",
              "    </tr>\n",
              "    <tr>\n",
              "      <th>4</th>\n",
              "      <td>1515915625353386199</td>\n",
              "      <td>B</td>\n",
              "      <td>1</td>\n",
              "      <td>1</td>\n",
              "      <td>20.98</td>\n",
              "      <td>0.0</td>\n",
              "      <td>0.0</td>\n",
              "      <td>0</td>\n",
              "      <td>0</td>\n",
              "    </tr>\n",
              "  </tbody>\n",
              "</table>\n",
              "</div>"
            ],
            "text/plain": [
              "               user_id group  is_viewed  products_viewed_cnt  price_sum  \\\n",
              "0  1515915625353230683     A          1                    1     339.79   \n",
              "1  1515915625353234047     A          1                    9     861.86   \n",
              "2  1515915625353236157     A          1                    4     179.60   \n",
              "3  1515915625353294441     B          1                   28    4283.04   \n",
              "4  1515915625353386199     B          1                    1      20.98   \n",
              "\n",
              "   is_cart_added  is_purchased  cart_added_cnt  purchased_cnt  \n",
              "0            0.0           0.0               0              0  \n",
              "1            0.0           0.0               0              0  \n",
              "2            0.0           0.0               0              0  \n",
              "3            0.0           0.0               0              0  \n",
              "4            0.0           0.0               0              0  "
            ]
          },
          "execution_count": 5,
          "metadata": {},
          "output_type": "execute_result"
        }
      ],
      "source": [
        "shop_metrics_new.head()"
      ]
    },
    {
      "cell_type": "code",
      "execution_count": null,
      "metadata": {
        "colab": {
          "base_uri": "https://localhost:8080/",
          "height": 206
        },
        "id": "_zVy8doPAGX4",
        "outputId": "2ebce1fd-0e3c-4674-96bd-ca7ba2337f1f"
      },
      "outputs": [
        {
          "data": {
            "text/html": [
              "<div>\n",
              "<style scoped>\n",
              "    .dataframe tbody tr th:only-of-type {\n",
              "        vertical-align: middle;\n",
              "    }\n",
              "\n",
              "    .dataframe tbody tr th {\n",
              "        vertical-align: top;\n",
              "    }\n",
              "\n",
              "    .dataframe thead th {\n",
              "        text-align: right;\n",
              "    }\n",
              "</style>\n",
              "<table border=\"1\" class=\"dataframe\">\n",
              "  <thead>\n",
              "    <tr style=\"text-align: right;\">\n",
              "      <th></th>\n",
              "      <th>user_id</th>\n",
              "      <th>group</th>\n",
              "      <th>is_viewed</th>\n",
              "      <th>products_viewed_cnt</th>\n",
              "      <th>price_sum</th>\n",
              "      <th>is_cart_added</th>\n",
              "      <th>is_purchased</th>\n",
              "      <th>cart_added_cnt</th>\n",
              "      <th>purchased_cnt</th>\n",
              "    </tr>\n",
              "  </thead>\n",
              "  <tbody>\n",
              "    <tr>\n",
              "      <th>0</th>\n",
              "      <td>1515915625353226922</td>\n",
              "      <td>B</td>\n",
              "      <td>1</td>\n",
              "      <td>1</td>\n",
              "      <td>76.48</td>\n",
              "      <td>0.0</td>\n",
              "      <td>0.0</td>\n",
              "      <td>0</td>\n",
              "      <td>0</td>\n",
              "    </tr>\n",
              "    <tr>\n",
              "      <th>1</th>\n",
              "      <td>1515915625353230067</td>\n",
              "      <td>A</td>\n",
              "      <td>1</td>\n",
              "      <td>1</td>\n",
              "      <td>28.98</td>\n",
              "      <td>0.0</td>\n",
              "      <td>0.0</td>\n",
              "      <td>0</td>\n",
              "      <td>0</td>\n",
              "    </tr>\n",
              "    <tr>\n",
              "      <th>2</th>\n",
              "      <td>1515915625353230683</td>\n",
              "      <td>A</td>\n",
              "      <td>1</td>\n",
              "      <td>10</td>\n",
              "      <td>592.21</td>\n",
              "      <td>0.0</td>\n",
              "      <td>0.0</td>\n",
              "      <td>0</td>\n",
              "      <td>0</td>\n",
              "    </tr>\n",
              "    <tr>\n",
              "      <th>3</th>\n",
              "      <td>1515915625353230922</td>\n",
              "      <td>A</td>\n",
              "      <td>1</td>\n",
              "      <td>1</td>\n",
              "      <td>274.40</td>\n",
              "      <td>0.0</td>\n",
              "      <td>0.0</td>\n",
              "      <td>0</td>\n",
              "      <td>0</td>\n",
              "    </tr>\n",
              "    <tr>\n",
              "      <th>4</th>\n",
              "      <td>1515915625353234047</td>\n",
              "      <td>A</td>\n",
              "      <td>1</td>\n",
              "      <td>14</td>\n",
              "      <td>1857.94</td>\n",
              "      <td>0.0</td>\n",
              "      <td>0.0</td>\n",
              "      <td>0</td>\n",
              "      <td>0</td>\n",
              "    </tr>\n",
              "  </tbody>\n",
              "</table>\n",
              "</div>"
            ],
            "text/plain": [
              "               user_id group  is_viewed  products_viewed_cnt  price_sum  \\\n",
              "0  1515915625353226922     B          1                    1      76.48   \n",
              "1  1515915625353230067     A          1                    1      28.98   \n",
              "2  1515915625353230683     A          1                   10     592.21   \n",
              "3  1515915625353230922     A          1                    1     274.40   \n",
              "4  1515915625353234047     A          1                   14    1857.94   \n",
              "\n",
              "   is_cart_added  is_purchased  cart_added_cnt  purchased_cnt  \n",
              "0            0.0           0.0               0              0  \n",
              "1            0.0           0.0               0              0  \n",
              "2            0.0           0.0               0              0  \n",
              "3            0.0           0.0               0              0  \n",
              "4            0.0           0.0               0              0  "
            ]
          },
          "execution_count": 6,
          "metadata": {},
          "output_type": "execute_result"
        }
      ],
      "source": [
        "shop_metrics_old.head()"
      ]
    },
    {
      "cell_type": "markdown",
      "metadata": {
        "id": "u8KBmxpm_9Zl"
      },
      "source": [
        "Метрики:\n",
        "   - is_viewed - айтем товара просмотрен\n",
        "   - products_viewed_cnt - количество уникальных просмотренных айтемов\n",
        "   - price_sum - суммарная цена товаров\n",
        "   - is_cart_added - товар добавлен в корзину\n",
        "   - is_purchased - товар куплен\n",
        "   - cart_added_cnt - количество товаров, добавленных в корзину\n",
        "   - purchased_cnt - количество купленных товаров"
      ]
    },
    {
      "cell_type": "code",
      "execution_count": null,
      "metadata": {
        "colab": {
          "base_uri": "https://localhost:8080/",
          "height": 467
        },
        "id": "EQDzIeRXAm5Z",
        "outputId": "c0e762fb-1e30-4f80-8304-d91951673168"
      },
      "outputs": [
        {
          "data": {
            "text/plain": [
              "<Axes: xlabel='cart_added_cnt', ylabel='Count'>"
            ]
          },
          "execution_count": 7,
          "metadata": {},
          "output_type": "execute_result"
        },
        {
          "data": {
            "image/png": "[encoded data removed]",
            "text/plain": [
              "<Figure size 640x480 with 1 Axes>"
            ]
          },
          "metadata": {},
          "output_type": "display_data"
        }
      ],
      "source": [
        "sns.histplot(data=shop_metrics_new, x='cart_added_cnt', bins=100, color='green')"
      ]
    },
    {
      "cell_type": "code",
      "execution_count": null,
      "metadata": {
        "id": "MCQecWsVbB5j",
        "outputId": "61c6a12c-b0f3-426d-f2c1-89dc01967ba4"
      },
      "outputs": [
        {
          "data": {
            "text/plain": [
              "cart_added_cnt\n",
              "0     200076\n",
              "1      18545\n",
              "2       2527\n",
              "3        668\n",
              "4        304\n",
              "5        109\n",
              "6         79\n",
              "7         48\n",
              "9         34\n",
              "8         32\n",
              "11        21\n",
              "12        13\n",
              "10        12\n",
              "13         7\n",
              "19         6\n",
              "15         5\n",
              "14         5\n",
              "17         4\n",
              "21         4\n",
              "16         3\n",
              "24         2\n",
              "23         2\n",
              "18         2\n",
              "28         2\n",
              "25         1\n",
              "41         1\n",
              "33         1\n",
              "22         1\n",
              "51         1\n",
              "39         1\n",
              "20         1\n",
              "75         1\n",
              "56         1\n",
              "38         1\n",
              "61         1\n",
              "Name: count, dtype: int64"
            ]
          },
          "execution_count": 79,
          "metadata": {},
          "output_type": "execute_result"
        }
      ],
      "source": [
        "shop_metrics_new.cart_added_cnt.value_counts()"
      ]
    },
    {
      "cell_type": "code",
      "execution_count": null,
      "metadata": {
        "id": "94HD8E-QhhyE"
      },
      "outputs": [],
      "source": [
        "def salt_generator(salt=None):\n",
        "    import os\n",
        "    from base64 import b64encode\n",
        "    salt = os.urandom(8)\n",
        "\n",
        "    return b64encode(salt).decode('ascii')\n",
        "\n",
        "def groups_splitter(df, user_salt=None):\n",
        "\n",
        "    if user_salt == None:\n",
        "        salt = salt_generator()\n",
        "    else:\n",
        "        salt = user_salt\n",
        "\n",
        "    df['hash'] = ((df['user_id'].astype(str)) + '#' + salt).apply(lambda x: hashlib.sha256(x.encode('utf-8')).hexdigest())\n",
        "\n",
        "    df['group'] = ((df['hash'].str.slice(start=-6).apply(int, base=16) % 2).map(lambda x: 'A' if x == 0 else 'B'))\n",
        "\n",
        "    return df[['user_id', 'group']].drop_duplicates()"
      ]
    },
    {
      "cell_type": "code",
      "execution_count": null,
      "metadata": {
        "id": "D3en1FESbB5k"
      },
      "outputs": [],
      "source": [
        "import pandas as pd\n",
        "\n",
        "def calculate_statistics(df1, metric1, df2, metric2, df3=None, metric3=None):\n",
        "    # Функция для вычисления статистик для одного датафрейма\n",
        "    def compute_stats(df, metric):\n",
        "        # Разделение на группы A и B\n",
        "        group_A = df[df['group'] == 'A'][metric]\n",
        "        group_B = df[df['group'] == 'B'][metric]\n",
        "\n",
        "        # Вычисление средних\n",
        "        mean_A = group_A.mean()\n",
        "        mean_B = group_B.mean()\n",
        "\n",
        "        # Вычисление относительной разницы средних\n",
        "        relative_difference = (mean_B - mean_A) / mean_A\n",
        "\n",
        "        # Вычисление дисперсий\n",
        "        variance_A = group_A.var()\n",
        "        variance_B = group_B.var()\n",
        "\n",
        "        return mean_A, mean_B, relative_difference, variance_A, variance_B\n",
        "\n",
        "    # Создание списка для результатов\n",
        "    results_list = []\n",
        "\n",
        "    # Вычисление статистик для первого датафрейма\n",
        "    mean_A1, mean_B1, rel_diff1, var_A1, var_B1 = compute_stats(df1, metric1)\n",
        "    results_list.append([metric1, mean_A1, mean_B1, rel_diff1 * 100, var_A1, var_B1])\n",
        "\n",
        "    # Вычисление статистик для второго датафрейма\n",
        "    mean_A2, mean_B2, rel_diff2, var_A2, var_B2 = compute_stats(df2, metric2)\n",
        "    results_list.append([metric2, mean_A2, mean_B2, rel_diff2 * 100, var_A2, var_B2])\n",
        "\n",
        "    # Проверка и вычисление статистик для третьего датафрейма, если он предоставлен\n",
        "    if df3 is not None and metric3 is not None:\n",
        "        mean_A3, mean_B3, rel_diff3, var_A3, var_B3 = compute_stats(df3, metric3)\n",
        "        results_list.append([metric3, mean_A3, mean_B3, rel_diff3 * 100, var_A3, var_B3])\n",
        "\n",
        "    # Создание датафрейма с результатами\n",
        "    results = pd.DataFrame(results_list, columns=[\n",
        "        'Metric', 'Mean A', 'Mean B', 'Relative Mean Diff, %', 'Variance A', 'Variance B'\n",
        "    ])\n",
        "\n",
        "    return round(results.set_index('Metric'), 2)"
      ]
    },
    {
      "cell_type": "markdown",
      "metadata": {
        "id": "TG5oWmyO9sq2"
      },
      "source": [
        "## 1. Применить ранговую трансформацию (потом t-test) и сравнить с результатами по Манну-Уитни на:"
      ]
    },
    {
      "cell_type": "code",
      "execution_count": null,
      "metadata": {
        "id": "1lRVVdThd-tr"
      },
      "outputs": [],
      "source": [
        "NUM_ITERATIONS = 1000"
      ]
    },
    {
      "cell_type": "markdown",
      "metadata": {
        "id": "AwqCy0JK90ZR"
      },
      "source": [
        "### Метрика cart_added_cnt (5 баллов)"
      ]
    },
    {
      "cell_type": "code",
      "execution_count": null,
      "metadata": {
        "id": "BLO1tPRdAzT-"
      },
      "outputs": [],
      "source": [
        "def rank_transformation(df_a, df_b, metric):\n",
        "    df = pd.concat([df_a, df_b], axis = 0)\n",
        "    df['rank'] = df[metric].rank()\n",
        "\n",
        "    return df"
      ]
    },
    {
      "cell_type": "code",
      "execution_count": null,
      "metadata": {
        "id": "eaRTsOLoAzDT"
      },
      "outputs": [],
      "source": [
        "ranked = rank_transformation(shop_metrics_new[shop_metrics_new.group == 'A'],\n",
        "                             shop_metrics_new[shop_metrics_new.group == 'B'], 'cart_added_cnt')"
      ]
    },
    {
      "cell_type": "markdown",
      "metadata": {
        "id": "5Zzx2S13bB5k"
      },
      "source": [
        "Статистика для ранговой и обычной метрики"
      ]
    },
    {
      "cell_type": "code",
      "execution_count": null,
      "metadata": {
        "id": "OqYLBG1abB5k",
        "outputId": "d3953183-32dc-41a0-b85c-e996ead78e1d"
      },
      "outputs": [
        {
          "data": {
            "text/html": [
              "<div>\n",
              "<style scoped>\n",
              "    .dataframe tbody tr th:only-of-type {\n",
              "        vertical-align: middle;\n",
              "    }\n",
              "\n",
              "    .dataframe tbody tr th {\n",
              "        vertical-align: top;\n",
              "    }\n",
              "\n",
              "    .dataframe thead th {\n",
              "        text-align: right;\n",
              "    }\n",
              "</style>\n",
              "<table border=\"1\" class=\"dataframe\">\n",
              "  <thead>\n",
              "    <tr style=\"text-align: right;\">\n",
              "      <th></th>\n",
              "      <th>Mean A</th>\n",
              "      <th>Mean B</th>\n",
              "      <th>Relative Mean Diff, %</th>\n",
              "      <th>Variance A</th>\n",
              "      <th>Variance B</th>\n",
              "    </tr>\n",
              "    <tr>\n",
              "      <th>Metric</th>\n",
              "      <th></th>\n",
              "      <th></th>\n",
              "      <th></th>\n",
              "      <th></th>\n",
              "      <th></th>\n",
              "    </tr>\n",
              "  </thead>\n",
              "  <tbody>\n",
              "    <tr>\n",
              "      <th>rank</th>\n",
              "      <td>111170.46</td>\n",
              "      <td>111351.64</td>\n",
              "      <td>0.16</td>\n",
              "      <td>1.116109e+09</td>\n",
              "      <td>1.132937e+09</td>\n",
              "    </tr>\n",
              "    <tr>\n",
              "      <th>cart_added_cnt</th>\n",
              "      <td>0.14</td>\n",
              "      <td>0.14</td>\n",
              "      <td>2.60</td>\n",
              "      <td>3.800000e-01</td>\n",
              "      <td>4.200000e-01</td>\n",
              "    </tr>\n",
              "  </tbody>\n",
              "</table>\n",
              "</div>"
            ],
            "text/plain": [
              "                   Mean A     Mean B  Relative Mean Diff, %    Variance A  \\\n",
              "Metric                                                                      \n",
              "rank            111170.46  111351.64                   0.16  1.116109e+09   \n",
              "cart_added_cnt       0.14       0.14                   2.60  3.800000e-01   \n",
              "\n",
              "                  Variance B  \n",
              "Metric                        \n",
              "rank            1.132937e+09  \n",
              "cart_added_cnt  4.200000e-01  "
            ]
          },
          "execution_count": 13,
          "metadata": {},
          "output_type": "execute_result"
        }
      ],
      "source": [
        "calculate_statistics(ranked, 'rank', shop_metrics_new, 'cart_added_cnt')"
      ]
    },
    {
      "cell_type": "markdown",
      "metadata": {
        "id": "ZUXtN0YSbB5k"
      },
      "source": [
        "Средние изменились достаточно сильно (по сравнению с исходными), собственно как и дисперсия, разница между группами 0.16%"
      ]
    },
    {
      "cell_type": "markdown",
      "metadata": {
        "id": "zh-nRyoMbB5k"
      },
      "source": [
        "T-test для ранговой трансформации"
      ]
    },
    {
      "cell_type": "code",
      "execution_count": null,
      "metadata": {
        "colab": {
          "base_uri": "https://localhost:8080/"
        },
        "id": "AmyvyT1mD1H5",
        "outputId": "35ca7721-aeef-4dc0-c19b-5c86947f0393"
      },
      "outputs": [
        {
          "data": {
            "text/plain": [
              "TtestResult(statistic=np.float64(-1.2743727811526857), pvalue=np.float64(0.20253266477504916), df=np.float64(222519.0))"
            ]
          },
          "execution_count": 14,
          "metadata": {},
          "output_type": "execute_result"
        }
      ],
      "source": [
        "stats.ttest_ind(ranked[ranked.group == 'A']['rank'],\n",
        "                ranked[ranked.group == 'B']['rank'])"
      ]
    },
    {
      "cell_type": "markdown",
      "metadata": {
        "id": "hrAOy3gWbB5k"
      },
      "source": [
        "Различий между группами практичски не было => t-test не нашел разницу"
      ]
    },
    {
      "cell_type": "markdown",
      "metadata": {
        "id": "_wstCuavbB5k"
      },
      "source": [
        "T-test для обычной метрики"
      ]
    },
    {
      "cell_type": "code",
      "execution_count": null,
      "metadata": {
        "colab": {
          "base_uri": "https://localhost:8080/"
        },
        "id": "lOAATliiEYzy",
        "outputId": "57a18b8e-e88d-4dba-b65f-523aed4270e5"
      },
      "outputs": [
        {
          "data": {
            "text/plain": [
              "TtestResult(statistic=np.float64(-1.3047727178459143), pvalue=np.float64(0.1919716009958315), df=np.float64(222519.0))"
            ]
          },
          "execution_count": 15,
          "metadata": {},
          "output_type": "execute_result"
        }
      ],
      "source": [
        "stats.ttest_ind(shop_metrics_new[shop_metrics_new.group == 'A']['cart_added_cnt'],\n",
        "                shop_metrics_new[shop_metrics_new.group == 'B']['cart_added_cnt'])"
      ]
    },
    {
      "cell_type": "markdown",
      "metadata": {
        "id": "JtEp0D90bB5l"
      },
      "source": [
        "Mannwhitneyu для обычной метрики"
      ]
    },
    {
      "cell_type": "code",
      "execution_count": null,
      "metadata": {
        "colab": {
          "base_uri": "https://localhost:8080/"
        },
        "id": "9ACvO9efExRz",
        "outputId": "f255f8e1-d8c3-44ab-ebdd-58f2378f6f6e"
      },
      "outputs": [
        {
          "data": {
            "text/plain": [
              "MannwhitneyuResult(statistic=np.float64(6179368188.5), pvalue=np.float64(0.2025319893087626))"
            ]
          },
          "execution_count": 16,
          "metadata": {},
          "output_type": "execute_result"
        }
      ],
      "source": [
        "stats.mannwhitneyu(shop_metrics_new[shop_metrics_new.group == 'A']['cart_added_cnt'],\n",
        "                   shop_metrics_new[shop_metrics_new.group == 'B']['cart_added_cnt'])"
      ]
    },
    {
      "cell_type": "code",
      "execution_count": null,
      "metadata": {
        "id": "S6JIJcMhK54e"
      },
      "outputs": [],
      "source": [
        "shop = shop_metrics_new.drop(columns=['group'])"
      ]
    },
    {
      "cell_type": "code",
      "execution_count": null,
      "metadata": {
        "colab": {
          "base_uri": "https://localhost:8080/"
        },
        "id": "9MwNUF2QK6wD",
        "outputId": "d378546b-291e-4d73-e090-6ebba9896d95"
      },
      "outputs": [
        {
          "data": {
            "text/plain": [
              "np.float64(0.6345408834915941)"
            ]
          },
          "execution_count": 18,
          "metadata": {},
          "output_type": "execute_result"
        }
      ],
      "source": [
        "shop['cart_added_cnt'].std()"
      ]
    },
    {
      "cell_type": "markdown",
      "metadata": {
        "id": "enhSrp5xbB5l"
      },
      "source": [
        "### Мощность и корректность"
      ]
    },
    {
      "cell_type": "markdown",
      "metadata": {
        "id": "gDT-OyArbB5l"
      },
      "source": [
        "Рангововая трансформация c t-test"
      ]
    },
    {
      "cell_type": "code",
      "execution_count": null,
      "metadata": {
        "colab": {
          "base_uri": "https://localhost:8080/",
          "height": 1000
        },
        "id": "0KICwUpGKBTg",
        "outputId": "99f0ace5-1d95-426e-f844-073ddbbcf8c3",
        "scrolled": true
      },
      "outputs": [
        {
          "name": "stderr",
          "output_type": "stream",
          "text": [
            "100%|███████████████████████████████████████| 1000/1000 [01:12<00:00, 13.83it/s]\n"
          ]
        }
      ],
      "source": [
        "from joblib import Parallel, delayed\n",
        "\n",
        "# Определяем функцию для одной итерации\n",
        "def process_iteration(i):\n",
        "\n",
        "    new_group = groups_splitter(shop.copy(), user_salt=salt_generator())\n",
        "    new_df = pd.merge(shop, new_group, how=\"left\", on=['user_id']).drop_duplicates()\n",
        "\n",
        "    # Ранговая трансформация без эффекта\n",
        "    ranked_df = rank_transformation(\n",
        "        new_df[new_df.group == 'A'],\n",
        "        new_df[new_df.group == 'B'],\n",
        "        'cart_added_cnt'\n",
        "    )\n",
        "    vec_a = ranked_df[ranked_df['group'] == 'A']['rank']\n",
        "    vec_b = ranked_df[ranked_df['group'] == 'B']['rank']\n",
        "\n",
        "    # Применение эффекта к группе B\n",
        "    vec_b_effect = new_df[new_df['group'] == 'B']['cart_added_cnt'] * 1.05\n",
        "    new_df_b = new_df[new_df.group == 'B'].drop(columns=['cart_added_cnt'])\n",
        "    new_df_b['cart_added_cnt'] = vec_b_effect.values\n",
        "\n",
        "    # Ранговая трансформация с эффектом\n",
        "    ranked_df_effect = rank_transformation(\n",
        "        new_df[new_df.group == 'A'],\n",
        "        new_df_b,\n",
        "        'cart_added_cnt'\n",
        "    )\n",
        "    vec_a_power = ranked_df_effect[ranked_df_effect['group'] == 'A']['rank']\n",
        "    vec_b_power = ranked_df_effect[ranked_df_effect['group'] == 'B']['rank']\n",
        "\n",
        "    # Вычисление p-значений\n",
        "    p_cor = stats.ttest_ind(vec_a, vec_b)[1]\n",
        "    p_power = stats.ttest_ind(vec_a_power, vec_b_power)[1]\n",
        "\n",
        "    return p_cor, p_power\n",
        "\n",
        "\n",
        "# Параллельное выполнение итераций\n",
        "results = Parallel(n_jobs=-1)(\n",
        "    delayed(process_iteration)(i) for i in tqdm(range(NUM_ITERATIONS))\n",
        ")\n",
        "\n",
        "# Извлечение результатов\n",
        "correctness = np.array([res[0] for res in results])\n",
        "power = np.array([res[1] for res in results])"
      ]
    },
    {
      "cell_type": "code",
      "execution_count": null,
      "metadata": {
        "colab": {
          "base_uri": "https://localhost:8080/",
          "height": 1000
        },
        "outputId": "99f0ace5-1d95-426e-f844-073ddbbcf8c3",
        "id": "SF0cty3MbB5l"
      },
      "outputs": [
        {
          "name": "stdout",
          "output_type": "stream",
          "text": [
            "p_value = 0.5654190548937519 - p_values равномерное распределение\n",
            "power: 100.0% , correctness: 95.3%\n"
          ]
        },
        {
          "data": {
            "image/png": "[encoded data removed]",
            "text/plain": [
              "<Figure size 800x600 with 1 Axes>"
            ]
          },
          "metadata": {},
          "output_type": "display_data"
        }
      ],
      "source": [
        "# Визуализация\n",
        "sns.set(rc={'figure.figsize': (8, 6)})\n",
        "sns.histplot(data=correctness, bins=10, color='blue', kde=True)\n",
        "sns.despine()\n",
        "\n",
        "stat, p_value = scipy.stats.kstest(correctness, scipy.stats.uniform(loc=0.0, scale=1.0).cdf)\n",
        "\n",
        "if p_value < 0.05:\n",
        "    print(f'p_value = {p_value} - p_values неравномерное распределение')\n",
        "else:\n",
        "    print(f'p_value = {p_value} - p_values равномерное распределение')\n",
        "\n",
        "# Расчет мощности и корректности\n",
        "power = (np.sum(power < 0.05) / len(power)) * 100\n",
        "correctness = (1 - (np.sum(correctness < 0.05) / len(correctness))) * 100\n",
        "\n",
        "print(f'power: {power}% , correctness: {correctness}%')"
      ]
    },
    {
      "cell_type": "markdown",
      "metadata": {
        "id": "BmG08rLhbB5l"
      },
      "source": [
        "Обычная метрика с mannwhitneyu"
      ]
    },
    {
      "cell_type": "code",
      "execution_count": null,
      "metadata": {
        "colab": {
          "base_uri": "https://localhost:8080/",
          "height": 1000
        },
        "id": "0DWnkzeHMXgX",
        "outputId": "e9dbb150-6a1e-4885-d95d-7de859d7fd82"
      },
      "outputs": [
        {
          "name": "stderr",
          "output_type": "stream",
          "text": [
            "100%|███████████████████████████████████████| 1000/1000 [01:02<00:00, 16.12it/s]\n"
          ]
        }
      ],
      "source": [
        "def process_iteration(i):\n",
        "\n",
        "    new_group = groups_splitter(shop.copy(), user_salt=salt_generator())\n",
        "    new_df = pd.merge(shop, new_group, how=\"left\", on=['user_id']).drop_duplicates()\n",
        "\n",
        "    vec_a = new_df[new_df.group == 'A']['cart_added_cnt']\n",
        "    vec_b = new_df[new_df.group == 'B']['cart_added_cnt']\n",
        "\n",
        "    # Применение эффекта к группе B\n",
        "    vec_b_effect = new_df[new_df['group'] == 'B']['cart_added_cnt'] * 1.05\n",
        "\n",
        "    # Вычисление p-значений\n",
        "    p_cor = stats.mannwhitneyu(vec_a, vec_b)[1]\n",
        "    p_power = stats.mannwhitneyu(vec_a, vec_b_effect)[1]\n",
        "\n",
        "    return p_cor, p_power\n",
        "\n",
        "# Параллельное выполнение итераций\n",
        "results = Parallel(n_jobs=-1)(\n",
        "    delayed(process_iteration)(i) for i in tqdm(range(NUM_ITERATIONS))\n",
        ")\n",
        "\n",
        "# Извлечение результатов\n",
        "correctness = np.array([res[0] for res in results])\n",
        "power = np.array([res[1] for res in results])"
      ]
    },
    {
      "cell_type": "code",
      "execution_count": null,
      "metadata": {
        "colab": {
          "base_uri": "https://localhost:8080/",
          "height": 1000
        },
        "outputId": "e9dbb150-6a1e-4885-d95d-7de859d7fd82",
        "id": "GIc_eO6HbB5l"
      },
      "outputs": [
        {
          "name": "stdout",
          "output_type": "stream",
          "text": [
            "p_value = 0.06569709689410863 - p_values равномерное распределение\n",
            "power: 100.0% , correctness: 94.3%\n"
          ]
        },
        {
          "data": {
            "image/png": "[encoded data removed]",
            "text/plain": [
              "<Figure size 800x600 with 1 Axes>"
            ]
          },
          "metadata": {},
          "output_type": "display_data"
        }
      ],
      "source": [
        "# Визуализация\n",
        "sns.set(rc={'figure.figsize': (8, 6)})\n",
        "sns.histplot(data=correctness, bins=10, color='blue', kde=True)\n",
        "sns.despine()\n",
        "\n",
        "stat, p_value = scipy.stats.kstest(correctness, scipy.stats.uniform(loc=0.0, scale=1.0).cdf)\n",
        "\n",
        "if p_value < 0.05:\n",
        "    print(f'p_value = {p_value} - p_values неравномерное распределение')\n",
        "else:\n",
        "    print(f'p_value = {p_value} - p_values равномерное распределение')\n",
        "\n",
        "# Расчет мощности и корректности\n",
        "power = (np.sum(power < 0.05) / len(power)) * 100\n",
        "correctness = (1 - (np.sum(correctness < 0.05) / len(correctness))) * 100\n",
        "\n",
        "print(f'power: {power}% , correctness: {correctness}%')"
      ]
    },
    {
      "cell_type": "markdown",
      "metadata": {
        "id": "cVT-FgtXbB5l"
      },
      "source": [
        "### Вывод\n",
        "\n",
        "На обычной метрике cart_added_cnt метод ранговой трансформации (ttest) показал себя примерно одинаково по значению p_value с критерием Манну-Уитни, p_value = 0.2, оба теста не нашли отличий там где их не было, но ранговый критерий сильно увеличивает среднее и дисперсию в этом кейсе, а также уменьшает величину эффекта примерно на порядок.\n",
        "\n",
        "Также по значению корректности и мощности оба вариата примерно на одном уровне, кроме распределения p_value, у критерия Манну-Уитни распределение находится на границе нормальности и при большем числе итераций оно могло бы стать неравномерным.\n",
        "\n",
        "K-S, мощность и корректность:\n",
        "\n",
        "cart_added_cnt метод ранговой трансформации (ttest):\n",
        "- p_value = 0.5654190548937519 - p_values равномерное распределение\n",
        "- power: 100.0% , correctness: 95.3%\n",
        "\n",
        "cart_added_cnt (Манну-Уитни):\n",
        "- p_value = 0.06569709689410863 - p_values равномерное распределение\n",
        "- power: 100.0% , correctness: 94.3%"
      ]
    },
    {
      "cell_type": "markdown",
      "metadata": {
        "id": "b4y08soK93ml"
      },
      "source": [
        "## 2. Реализовать cuped-трансформацию и сравнить мощность t-критерия на:"
      ]
    },
    {
      "cell_type": "markdown",
      "metadata": {
        "id": "gO6Ce_q_93eh"
      },
      "source": [
        "### Обычная метрика cart_added_cnt (5 баллов)"
      ]
    },
    {
      "cell_type": "code",
      "execution_count": null,
      "metadata": {
        "id": "49PBW8gmi-yk"
      },
      "outputs": [],
      "source": [
        "def cuped_transform(df, metrics):\n",
        "\n",
        "    new_columns = [str(m+'_cuped') for m in metrics]\n",
        "    df[new_columns] = pd.DataFrame([[0] * len(new_columns)], index=df.index)\n",
        "\n",
        "    df_mini = df.fillna(0)\n",
        "    for m in metrics:\n",
        "        covariate_column = str(m+'_covariate')\n",
        "        cuped_column = str(m+'_cuped')\n",
        "        mean_covariate = df_mini[covariate_column].mean()\n",
        "\n",
        "        theta = (df_mini[m].cov(df_mini[covariate_column]))/(df_mini.loc[:,covariate_column].var())\n",
        "        df_mini[cuped_column] = df_mini[m] - (df_mini[covariate_column] - mean_covariate) * theta\n",
        "\n",
        "    df.update(df_mini)\n",
        "\n",
        "    return df.drop_duplicates()"
      ]
    },
    {
      "cell_type": "code",
      "execution_count": null,
      "metadata": {
        "id": "uNC7xlyZi-l0"
      },
      "outputs": [],
      "source": [
        "shop_metrics_all = pd.merge(shop_metrics_new,\n",
        "                            shop_metrics_old[['user_id', 'cart_added_cnt']],\n",
        "                            on=['user_id'], how='left',\n",
        "                            suffixes=('', '_covariate'))"
      ]
    },
    {
      "cell_type": "code",
      "execution_count": null,
      "metadata": {
        "id": "WcdoUKRejALa"
      },
      "outputs": [],
      "source": [
        "shop_metrics_all_cuped = cuped_transform(shop_metrics_all.copy(), ['cart_added_cnt'])"
      ]
    },
    {
      "cell_type": "markdown",
      "metadata": {
        "id": "vlA2mzKxbB5p"
      },
      "source": [
        "Т-test cuped-трансформация"
      ]
    },
    {
      "cell_type": "code",
      "execution_count": null,
      "metadata": {
        "colab": {
          "base_uri": "https://localhost:8080/"
        },
        "id": "ZIAtjTR3lCQ-",
        "outputId": "555a12a0-a29f-425c-e1e5-5e74e7b74953"
      },
      "outputs": [
        {
          "data": {
            "text/plain": [
              "TtestResult(statistic=np.float64(-1.3855896128448428), pvalue=np.float64(0.1658736404876475), df=np.float64(222519.0))"
            ]
          },
          "execution_count": 26,
          "metadata": {},
          "output_type": "execute_result"
        }
      ],
      "source": [
        "stats.ttest_ind(shop_metrics_all_cuped[shop_metrics_all_cuped.group == 'A']['cart_added_cnt_cuped'],\n",
        "                shop_metrics_all_cuped[shop_metrics_all_cuped.group == 'B']['cart_added_cnt_cuped'])"
      ]
    },
    {
      "cell_type": "code",
      "execution_count": null,
      "metadata": {
        "id": "EUKRa8e6bB5p",
        "outputId": "cf11c1d9-f841-4f0b-b5d1-4e23bd6e829d"
      },
      "outputs": [
        {
          "data": {
            "text/html": [
              "<div>\n",
              "<style scoped>\n",
              "    .dataframe tbody tr th:only-of-type {\n",
              "        vertical-align: middle;\n",
              "    }\n",
              "\n",
              "    .dataframe tbody tr th {\n",
              "        vertical-align: top;\n",
              "    }\n",
              "\n",
              "    .dataframe thead th {\n",
              "        text-align: right;\n",
              "    }\n",
              "</style>\n",
              "<table border=\"1\" class=\"dataframe\">\n",
              "  <thead>\n",
              "    <tr style=\"text-align: right;\">\n",
              "      <th></th>\n",
              "      <th>Mean A</th>\n",
              "      <th>Mean B</th>\n",
              "      <th>Relative Mean Diff, %</th>\n",
              "      <th>Variance A</th>\n",
              "      <th>Variance B</th>\n",
              "    </tr>\n",
              "    <tr>\n",
              "      <th>Metric</th>\n",
              "      <th></th>\n",
              "      <th></th>\n",
              "      <th></th>\n",
              "      <th></th>\n",
              "      <th></th>\n",
              "    </tr>\n",
              "  </thead>\n",
              "  <tbody>\n",
              "    <tr>\n",
              "      <th>cart_added_cnt_cuped</th>\n",
              "      <td>0.14</td>\n",
              "      <td>0.14</td>\n",
              "      <td>0.61</td>\n",
              "      <td>0.02</td>\n",
              "      <td>0.02</td>\n",
              "    </tr>\n",
              "    <tr>\n",
              "      <th>cart_added_cnt_covariate</th>\n",
              "      <td>0.14</td>\n",
              "      <td>0.14</td>\n",
              "      <td>2.04</td>\n",
              "      <td>0.41</td>\n",
              "      <td>0.46</td>\n",
              "    </tr>\n",
              "    <tr>\n",
              "      <th>cart_added_cnt</th>\n",
              "      <td>0.14</td>\n",
              "      <td>0.14</td>\n",
              "      <td>2.60</td>\n",
              "      <td>0.38</td>\n",
              "      <td>0.42</td>\n",
              "    </tr>\n",
              "  </tbody>\n",
              "</table>\n",
              "</div>"
            ],
            "text/plain": [
              "                          Mean A  Mean B  Relative Mean Diff, %  Variance A  \\\n",
              "Metric                                                                        \n",
              "cart_added_cnt_cuped        0.14    0.14                   0.61        0.02   \n",
              "cart_added_cnt_covariate    0.14    0.14                   2.04        0.41   \n",
              "cart_added_cnt              0.14    0.14                   2.60        0.38   \n",
              "\n",
              "                          Variance B  \n",
              "Metric                                \n",
              "cart_added_cnt_cuped            0.02  \n",
              "cart_added_cnt_covariate        0.46  \n",
              "cart_added_cnt                  0.42  "
            ]
          },
          "execution_count": 27,
          "metadata": {},
          "output_type": "execute_result"
        }
      ],
      "source": [
        "calculate_statistics(shop_metrics_all_cuped, 'cart_added_cnt_cuped',\n",
        "                     shop_metrics_all_cuped, 'cart_added_cnt_covariate',\n",
        "                     shop_metrics_new, 'cart_added_cnt')"
      ]
    },
    {
      "cell_type": "markdown",
      "metadata": {
        "id": "OoI2MROEbB5p"
      },
      "source": [
        "### Мощность и корректность"
      ]
    },
    {
      "cell_type": "markdown",
      "metadata": {
        "id": "aQ1CeeuQbB5p"
      },
      "source": [
        "Cuped-трансформация t-test"
      ]
    },
    {
      "cell_type": "code",
      "execution_count": null,
      "metadata": {
        "colab": {
          "base_uri": "https://localhost:8080/",
          "height": 562
        },
        "id": "5OyraDzrnbBm",
        "outputId": "eee904b3-ccca-416a-eb86-d60eb22f9347"
      },
      "outputs": [
        {
          "name": "stderr",
          "output_type": "stream",
          "text": [
            "100%|███████████████████████████████████████| 1000/1000 [01:19<00:00, 12.50it/s]\n"
          ]
        }
      ],
      "source": [
        "def process_iteration(i):\n",
        "\n",
        "    warnings.filterwarnings(\"ignore\", category=FutureWarning)\n",
        "\n",
        "    # Генерация новых групп A и B\n",
        "    new_group = groups_splitter(shop.copy(), user_salt=salt_generator())\n",
        "    new_df = pd.merge(shop, new_group, how=\"left\", on=['user_id']).drop_duplicates()\n",
        "    all_df = pd.merge(new_df, shop_metrics_old[['user_id', 'cart_added_cnt']],\n",
        "                      on=['user_id'], how='left',\n",
        "                      suffixes=('', '_covariate'))\n",
        "\n",
        "    # Применение метода CUPED для уменьшения дисперсии\n",
        "    cuped_df = cuped_transform(all_df, ['cart_added_cnt'])\n",
        "\n",
        "    # Разделение данных на группы A и B\n",
        "    vec_a = cuped_df[cuped_df['group'] == 'A']['cart_added_cnt_cuped']\n",
        "    vec_b = cuped_df[cuped_df['group'] == 'B']['cart_added_cnt_cuped']\n",
        "\n",
        "    # Применение эффекта к группе B\n",
        "    vec_b_effect = vec_b * 1.05\n",
        "\n",
        "    # Вычисление p-значений с помощью t-теста\n",
        "    p_cor = stats.ttest_ind(vec_a, vec_b)[1]\n",
        "    p_power = stats.ttest_ind(vec_a, vec_b_effect)[1]\n",
        "\n",
        "    return p_cor, p_power\n",
        "\n",
        "# Параллельное выполнение итераций\n",
        "results = Parallel(n_jobs=-1)(\n",
        "    delayed(process_iteration)(i) for i in tqdm(range(NUM_ITERATIONS))\n",
        ")\n",
        "\n",
        "# Извлечение результатов\n",
        "correctness = np.array([res[0] for res in results])\n",
        "power = np.array([res[1] for res in results])"
      ]
    },
    {
      "cell_type": "code",
      "execution_count": null,
      "metadata": {
        "colab": {
          "base_uri": "https://localhost:8080/",
          "height": 562
        },
        "outputId": "eee904b3-ccca-416a-eb86-d60eb22f9347",
        "id": "c3Y3xvJ0bB5q"
      },
      "outputs": [
        {
          "name": "stdout",
          "output_type": "stream",
          "text": [
            "p_value = 0.5605175590041962 - p_values равномерное распределение\n",
            "power: 100.0% , correctness: 95.89999999999999%\n"
          ]
        },
        {
          "data": {
            "image/png": "[encoded data removed]",
            "text/plain": [
              "<Figure size 800x600 with 1 Axes>"
            ]
          },
          "metadata": {},
          "output_type": "display_data"
        }
      ],
      "source": [
        "# Визуализация\n",
        "sns.set(rc={'figure.figsize': (8, 6)})\n",
        "sns.histplot(data=correctness, bins=10, color='blue', kde=True)\n",
        "sns.despine()\n",
        "\n",
        "stat, p_value = scipy.stats.kstest(correctness, scipy.stats.uniform(loc=0.0, scale=1.0).cdf)\n",
        "\n",
        "if p_value < 0.05:\n",
        "    print(f'p_value = {p_value} - p_values неравномерное распределение')\n",
        "else:\n",
        "    print(f'p_value = {p_value} - p_values равномерное распределение')\n",
        "\n",
        "# Расчет мощности и корректности\n",
        "power = (np.sum(power < 0.05) / len(power)) * 100\n",
        "correctness = (1 - (np.sum(correctness < 0.05) / len(correctness))) * 100\n",
        "\n",
        "print(f'power: {power}% , correctness: {correctness}%')"
      ]
    },
    {
      "cell_type": "markdown",
      "metadata": {
        "id": "nBObRnHv93Wh"
      },
      "source": [
        "### логарфимированной метрике cart_added_cnt (5 баллов)"
      ]
    },
    {
      "cell_type": "code",
      "execution_count": null,
      "metadata": {
        "id": "Idbo9C8BbB5q"
      },
      "outputs": [],
      "source": [
        "log_df = shop_metrics_all\n",
        "\n",
        "log_df['cart_added_cnt_log'] = np.log(log_df['cart_added_cnt'] + 1)\n",
        "log_df['cart_added_cnt_log_covariate'] = np.log(log_df['cart_added_cnt_covariate'] + 1)\n",
        "\n",
        "cuped_log_df = cuped_transform(log_df, ['cart_added_cnt_log'])\n",
        "\n",
        "vec_a_cor = cuped_log_df[cuped_log_df['group'] == 'A']['cart_added_cnt_log_cuped']\n",
        "vec_b_cor = cuped_log_df[cuped_log_df['group'] == 'B']['cart_added_cnt_log_cuped']"
      ]
    },
    {
      "cell_type": "code",
      "execution_count": null,
      "metadata": {
        "id": "_Y2UvOZzbB5q",
        "outputId": "c3de115b-b7ed-4568-e8bd-d466419e14c3"
      },
      "outputs": [
        {
          "data": {
            "text/html": [
              "<div>\n",
              "<style scoped>\n",
              "    .dataframe tbody tr th:only-of-type {\n",
              "        vertical-align: middle;\n",
              "    }\n",
              "\n",
              "    .dataframe tbody tr th {\n",
              "        vertical-align: top;\n",
              "    }\n",
              "\n",
              "    .dataframe thead th {\n",
              "        text-align: right;\n",
              "    }\n",
              "</style>\n",
              "<table border=\"1\" class=\"dataframe\">\n",
              "  <thead>\n",
              "    <tr style=\"text-align: right;\">\n",
              "      <th></th>\n",
              "      <th>Mean A</th>\n",
              "      <th>Mean B</th>\n",
              "      <th>Relative Mean Diff, %</th>\n",
              "      <th>Variance A</th>\n",
              "      <th>Variance B</th>\n",
              "    </tr>\n",
              "    <tr>\n",
              "      <th>Metric</th>\n",
              "      <th></th>\n",
              "      <th></th>\n",
              "      <th></th>\n",
              "      <th></th>\n",
              "      <th></th>\n",
              "    </tr>\n",
              "  </thead>\n",
              "  <tbody>\n",
              "    <tr>\n",
              "      <th>cart_added_cnt_log_cuped</th>\n",
              "      <td>0.08</td>\n",
              "      <td>0.08</td>\n",
              "      <td>0.47</td>\n",
              "      <td>0.00</td>\n",
              "      <td>0.00</td>\n",
              "    </tr>\n",
              "    <tr>\n",
              "      <th>cart_added_cnt_log_covariate</th>\n",
              "      <td>0.08</td>\n",
              "      <td>0.08</td>\n",
              "      <td>1.51</td>\n",
              "      <td>0.07</td>\n",
              "      <td>0.07</td>\n",
              "    </tr>\n",
              "    <tr>\n",
              "      <th>cart_added_cnt_log</th>\n",
              "      <td>0.08</td>\n",
              "      <td>0.08</td>\n",
              "      <td>1.98</td>\n",
              "      <td>0.06</td>\n",
              "      <td>0.07</td>\n",
              "    </tr>\n",
              "  </tbody>\n",
              "</table>\n",
              "</div>"
            ],
            "text/plain": [
              "                              Mean A  Mean B  Relative Mean Diff, %  \\\n",
              "Metric                                                                \n",
              "cart_added_cnt_log_cuped        0.08    0.08                   0.47   \n",
              "cart_added_cnt_log_covariate    0.08    0.08                   1.51   \n",
              "cart_added_cnt_log              0.08    0.08                   1.98   \n",
              "\n",
              "                              Variance A  Variance B  \n",
              "Metric                                                \n",
              "cart_added_cnt_log_cuped            0.00        0.00  \n",
              "cart_added_cnt_log_covariate        0.07        0.07  \n",
              "cart_added_cnt_log                  0.06        0.07  "
            ]
          },
          "execution_count": 31,
          "metadata": {},
          "output_type": "execute_result"
        }
      ],
      "source": [
        "calculate_statistics(cuped_log_df, 'cart_added_cnt_log_cuped',\n",
        "                     cuped_log_df, 'cart_added_cnt_log_covariate',\n",
        "                     cuped_log_df, 'cart_added_cnt_log')"
      ]
    },
    {
      "cell_type": "markdown",
      "metadata": {
        "id": "ZgYnjRWzbB5q"
      },
      "source": [
        "Логарифмированная метрика + cuped ttest"
      ]
    },
    {
      "cell_type": "code",
      "execution_count": null,
      "metadata": {
        "id": "CbD07e0gbB5q",
        "outputId": "f52ecdea-f5f1-42b6-f306-012b80e8cc3d"
      },
      "outputs": [
        {
          "data": {
            "text/plain": [
              "np.float64(0.04042857406821934)"
            ]
          },
          "execution_count": 32,
          "metadata": {},
          "output_type": "execute_result"
        }
      ],
      "source": [
        "stats.ttest_ind(vec_a_cor, vec_b_cor)[1]"
      ]
    },
    {
      "cell_type": "markdown",
      "metadata": {
        "id": "JspRtmOBbB5q"
      },
      "source": [
        "### Мощность и корректность"
      ]
    },
    {
      "cell_type": "markdown",
      "metadata": {
        "id": "g-VyCWoybB5q"
      },
      "source": [
        "Логарифмированная метрика + cuped ttest"
      ]
    },
    {
      "cell_type": "code",
      "execution_count": null,
      "metadata": {
        "colab": {
          "base_uri": "https://localhost:8080/",
          "height": 1000
        },
        "id": "I_pXQD2BqZLl",
        "outputId": "7bb42749-5272-47fc-d0f0-a48d702648eb",
        "scrolled": true
      },
      "outputs": [
        {
          "name": "stderr",
          "output_type": "stream",
          "text": [
            "100%|███████████████████████████████████████| 1000/1000 [01:45<00:00,  9.51it/s]\n"
          ]
        }
      ],
      "source": [
        "from joblib import Parallel, delayed\n",
        "from tqdm import tqdm\n",
        "import numpy as np\n",
        "import pandas as pd\n",
        "from scipy import stats\n",
        "import seaborn as sns\n",
        "\n",
        "def process_iteration(i):\n",
        "    # Генерация новых групп A и B\n",
        "    new_group = groups_splitter(shop.copy(), user_salt=salt_generator())\n",
        "    new_df = pd.merge(shop, new_group, how=\"left\", on='user_id').drop_duplicates()\n",
        "\n",
        "    # Объединение с данными о ковариатах (предыдущая метрика)\n",
        "    all_df = pd.merge(new_df, shop_metrics_old[['user_id', 'cart_added_cnt']],\n",
        "                      on='user_id', how='left',\n",
        "                      suffixes=('', '_covariate'))\n",
        "\n",
        "    # Логарифмирование текущей метрики и ковариаты (добавляем 1, чтобы избежать log(0))\n",
        "    all_df['cart_added_cnt_log'] = np.log(all_df['cart_added_cnt'] + 1)\n",
        "    all_df['cart_added_cnt_log_covariate'] = np.log(all_df['cart_added_cnt_covariate'] + 1)\n",
        "\n",
        "    # Применение метода CUPED для уменьшения дисперсии (корректность)\n",
        "    cuped_df = cuped_transform(all_df, ['cart_added_cnt_log'])\n",
        "\n",
        "    # Разделение данных на группы A и B для корректности\n",
        "    vec_a_cor = cuped_df[cuped_df['group'] == 'A']['cart_added_cnt_log_cuped']\n",
        "    vec_b_cor = cuped_df[cuped_df['group'] == 'B']['cart_added_cnt_log_cuped']\n",
        "\n",
        "    # Вычисление p-значения для корректности (без эффекта)\n",
        "    p_cor = stats.ttest_ind(vec_a_cor, vec_b_cor)[1]\n",
        "\n",
        "    # Копируем all_df для применения эффекта\n",
        "    all_df_power = all_df.copy()\n",
        "\n",
        "    # Применение эффекта к группе B (только для мощности)\n",
        "    all_df_power.loc[all_df_power['group'] == 'B', 'cart_added_cnt'] *= 1.05\n",
        "\n",
        "    # Логарифмирование метрики после применения эффекта\n",
        "    all_df_power['cart_added_cnt_log'] = np.log(all_df_power['cart_added_cnt'] + 1)\n",
        "\n",
        "    # Применение метода CUPED для мощности\n",
        "    cuped_df_power = cuped_transform(all_df_power, ['cart_added_cnt_log'])\n",
        "\n",
        "    # Разделение данных на группы A и B для мощности\n",
        "    vec_a_power = cuped_df_power[cuped_df_power['group'] == 'A']['cart_added_cnt_log_cuped']\n",
        "    vec_b_power = cuped_df_power[cuped_df_power['group'] == 'B']['cart_added_cnt_log_cuped']\n",
        "\n",
        "    # Вычисление p-значения для мощности (с эффектом)\n",
        "    p_power = stats.ttest_ind(vec_a_power, vec_b_power)[1]\n",
        "\n",
        "    return p_cor, p_power\n",
        "\n",
        "# Параллельное выполнение итераций\n",
        "results = Parallel(n_jobs=-1)(\n",
        "    delayed(process_iteration)(i) for i in tqdm(range(NUM_ITERATIONS))\n",
        ")\n",
        "\n",
        "# Извлечение результатов\n",
        "correctness = np.array([res[0] for res in results])\n",
        "power = np.array([res[1] for res in results])"
      ]
    },
    {
      "cell_type": "code",
      "execution_count": null,
      "metadata": {
        "colab": {
          "base_uri": "https://localhost:8080/",
          "height": 1000
        },
        "outputId": "7bb42749-5272-47fc-d0f0-a48d702648eb",
        "id": "rLyPrptcbB5q"
      },
      "outputs": [
        {
          "name": "stdout",
          "output_type": "stream",
          "text": [
            "p_value = 0.9872394342704364 - p_values равномерное распределение\n",
            "power: 100.0% , correctness: 95.6%\n"
          ]
        },
        {
          "data": {
            "image/png": "[encoded data removed]",
            "text/plain": [
              "<Figure size 800x600 with 1 Axes>"
            ]
          },
          "metadata": {},
          "output_type": "display_data"
        }
      ],
      "source": [
        "# Визуализация\n",
        "sns.set(rc={'figure.figsize': (8, 6)})\n",
        "sns.histplot(data=correctness, bins=10, color='blue', kde=True)\n",
        "sns.despine()\n",
        "\n",
        "stat, p_value = scipy.stats.kstest(correctness, scipy.stats.uniform(loc=0.0, scale=1.0).cdf)\n",
        "\n",
        "if p_value < 0.05:\n",
        "    print(f'p_value = {p_value} - p_values неравномерное распределение')\n",
        "else:\n",
        "    print(f'p_value = {p_value} - p_values равномерное распределение')\n",
        "\n",
        "# Расчет мощности и корректности\n",
        "power = (np.sum(power < 0.05) / len(power)) * 100\n",
        "correctness = (1 - (np.sum(correctness < 0.05) / len(correctness))) * 100\n",
        "\n",
        "print(f'power: {power}% , correctness: {correctness}%')"
      ]
    },
    {
      "cell_type": "markdown",
      "metadata": {
        "id": "CKVAxODj93N8"
      },
      "source": [
        "### метрике cart_added_cnt (а после подвергнуть ранговому преобразованию) (5 баллов)"
      ]
    },
    {
      "cell_type": "code",
      "execution_count": null,
      "metadata": {
        "id": "HSiNeI4zbB5q"
      },
      "outputs": [],
      "source": [
        "cuped_a = shop_metrics_all_cuped[shop_metrics_all_cuped['group'] == 'A']\n",
        "cuped_b = shop_metrics_all_cuped[shop_metrics_all_cuped['group'] == 'B']\n",
        "\n",
        "ranked_df = rank_transformation(cuped_a, cuped_b, 'cart_added_cnt_cuped')\n",
        "\n",
        "ranked_df['cuped_rank'] = ranked_df['rank']\n",
        "\n",
        "vec_a_rank = ranked_df[ranked_df['group'] == 'A']['rank']\n",
        "vec_b_rank = ranked_df[ranked_df['group'] == 'B']['rank']"
      ]
    },
    {
      "cell_type": "code",
      "execution_count": null,
      "metadata": {
        "id": "FsyNk3IsbB5r",
        "outputId": "b177d755-2e2a-493b-f2f3-30f84d2450d3"
      },
      "outputs": [
        {
          "data": {
            "text/html": [
              "<div>\n",
              "<style scoped>\n",
              "    .dataframe tbody tr th:only-of-type {\n",
              "        vertical-align: middle;\n",
              "    }\n",
              "\n",
              "    .dataframe tbody tr th {\n",
              "        vertical-align: top;\n",
              "    }\n",
              "\n",
              "    .dataframe thead th {\n",
              "        text-align: right;\n",
              "    }\n",
              "</style>\n",
              "<table border=\"1\" class=\"dataframe\">\n",
              "  <thead>\n",
              "    <tr style=\"text-align: right;\">\n",
              "      <th></th>\n",
              "      <th>Mean A</th>\n",
              "      <th>Mean B</th>\n",
              "      <th>Relative Mean Diff, %</th>\n",
              "      <th>Variance A</th>\n",
              "      <th>Variance B</th>\n",
              "    </tr>\n",
              "    <tr>\n",
              "      <th>Metric</th>\n",
              "      <th></th>\n",
              "      <th></th>\n",
              "      <th></th>\n",
              "      <th></th>\n",
              "      <th></th>\n",
              "    </tr>\n",
              "  </thead>\n",
              "  <tbody>\n",
              "    <tr>\n",
              "      <th>cart_added_cnt_cuped</th>\n",
              "      <td>0.14</td>\n",
              "      <td>0.14</td>\n",
              "      <td>0.61</td>\n",
              "      <td>2.000000e-02</td>\n",
              "      <td>2.000000e-02</td>\n",
              "    </tr>\n",
              "    <tr>\n",
              "      <th>cart_added_cnt_covariate</th>\n",
              "      <td>0.14</td>\n",
              "      <td>0.14</td>\n",
              "      <td>2.04</td>\n",
              "      <td>4.100000e-01</td>\n",
              "      <td>4.600000e-01</td>\n",
              "    </tr>\n",
              "    <tr>\n",
              "      <th>cuped_rank</th>\n",
              "      <td>111157.33</td>\n",
              "      <td>111364.78</td>\n",
              "      <td>0.19</td>\n",
              "      <td>1.138308e+09</td>\n",
              "      <td>1.151769e+09</td>\n",
              "    </tr>\n",
              "  </tbody>\n",
              "</table>\n",
              "</div>"
            ],
            "text/plain": [
              "                             Mean A     Mean B  Relative Mean Diff, %  \\\n",
              "Metric                                                                  \n",
              "cart_added_cnt_cuped           0.14       0.14                   0.61   \n",
              "cart_added_cnt_covariate       0.14       0.14                   2.04   \n",
              "cuped_rank                111157.33  111364.78                   0.19   \n",
              "\n",
              "                            Variance A    Variance B  \n",
              "Metric                                                \n",
              "cart_added_cnt_cuped      2.000000e-02  2.000000e-02  \n",
              "cart_added_cnt_covariate  4.100000e-01  4.600000e-01  \n",
              "cuped_rank                1.138308e+09  1.151769e+09  "
            ]
          },
          "execution_count": 36,
          "metadata": {},
          "output_type": "execute_result"
        }
      ],
      "source": [
        "calculate_statistics(ranked_df, 'cart_added_cnt_cuped',\n",
        "                     ranked_df, 'cart_added_cnt_covariate',\n",
        "                     ranked_df, 'cuped_rank')"
      ]
    },
    {
      "cell_type": "markdown",
      "metadata": {
        "id": "MGDONSXybB5r"
      },
      "source": [
        "cuped + ранговая трансформация ttest"
      ]
    },
    {
      "cell_type": "code",
      "execution_count": null,
      "metadata": {
        "id": "qCLxjZEbbB5r",
        "outputId": "936cb9aa-875b-49f3-f170-75e54a07f4c4"
      },
      "outputs": [
        {
          "data": {
            "text/plain": [
              "TtestResult(statistic=np.float64(-1.4459909525623789), pvalue=np.float64(0.14818114788143424), df=np.float64(222519.0))"
            ]
          },
          "execution_count": 37,
          "metadata": {},
          "output_type": "execute_result"
        }
      ],
      "source": [
        "stats.ttest_ind(vec_a_rank, vec_b_rank)"
      ]
    },
    {
      "cell_type": "markdown",
      "metadata": {
        "id": "J9AsQA_sbB5r"
      },
      "source": [
        "### Мощность и корректность"
      ]
    },
    {
      "cell_type": "markdown",
      "metadata": {
        "id": "N9sMNBEtbB5r"
      },
      "source": [
        "cuped + ранговая трансформация ttest"
      ]
    },
    {
      "cell_type": "code",
      "execution_count": null,
      "metadata": {
        "colab": {
          "base_uri": "https://localhost:8080/",
          "height": 1000
        },
        "id": "jEyrTzb3n9C3",
        "outputId": "ab4a2827-d69a-4276-c612-6ee108320fdd",
        "scrolled": true
      },
      "outputs": [
        {
          "name": "stderr",
          "output_type": "stream",
          "text": [
            "100%|███████████████████████████████████████| 1000/1000 [01:29<00:00, 11.14it/s]\n"
          ]
        }
      ],
      "source": [
        "def process_iteration(i):\n",
        "\n",
        "    warnings.filterwarnings(\"ignore\", category=FutureWarning)\n",
        "\n",
        "    # Генерация новых групп A и B\n",
        "    new_group = groups_splitter(shop.copy(), user_salt=salt_generator())\n",
        "    new_df = pd.merge(shop, new_group, how=\"left\", on=['user_id']).drop_duplicates()\n",
        "    all_df = pd.merge(new_df, shop_metrics_old[['user_id', 'cart_added_cnt']],\n",
        "                      on=['user_id'], how='left',\n",
        "                      suffixes=('', '_covariate'))\n",
        "\n",
        "    # Применение метода CUPED для уменьшения дисперсии\n",
        "    cuped_df = cuped_transform(all_df, ['cart_added_cnt'])\n",
        "\n",
        "    # Разделение данных на группы A и B после CUPED\n",
        "    cuped_a = cuped_df[cuped_df['group'] == 'A']\n",
        "    cuped_b = cuped_df[cuped_df['group'] == 'B']\n",
        "\n",
        "    # Применение эффекта к группе B\n",
        "    cuped_b_effect = cuped_b.copy()\n",
        "    cuped_b_effect['cart_added_cnt_cuped'] = cuped_b_effect['cart_added_cnt_cuped'] * 1.05\n",
        "\n",
        "    # Применение ранговой трансформации без эффекта\n",
        "    ranked_df = rank_transformation(cuped_a, cuped_b, 'cart_added_cnt_cuped')\n",
        "    vec_a_rank = ranked_df[ranked_df['group'] == 'A']['rank']\n",
        "    vec_b_rank = ranked_df[ranked_df['group'] == 'B']['rank']\n",
        "\n",
        "    # Применение ранговой трансформации с эффектом\n",
        "    ranked_df_effect = rank_transformation(cuped_a, cuped_b_effect, 'cart_added_cnt_cuped')\n",
        "    vec_a_rank_effect = ranked_df_effect[ranked_df_effect['group'] == 'A']['rank']\n",
        "    vec_b_rank_effect = ranked_df_effect[ranked_df_effect['group'] == 'B']['rank']\n",
        "\n",
        "    # Вычисление p-значений с помощью t-теста\n",
        "    p_cor = stats.ttest_ind(vec_a_rank, vec_b_rank).pvalue\n",
        "    p_power = stats.ttest_ind(vec_a_rank_effect, vec_b_rank_effect).pvalue\n",
        "\n",
        "    return p_cor, p_power\n",
        "\n",
        "# Параллельное выполнение итераций\n",
        "results = Parallel(n_jobs=-1)(\n",
        "    delayed(process_iteration)(i) for i in tqdm(range(NUM_ITERATIONS))\n",
        ")\n",
        "\n",
        "# Извлечение результатов\n",
        "correctness = np.array([res[0] for res in results])\n",
        "power = np.array([res[1] for res in results])"
      ]
    },
    {
      "cell_type": "code",
      "execution_count": null,
      "metadata": {
        "colab": {
          "base_uri": "https://localhost:8080/",
          "height": 1000
        },
        "outputId": "ab4a2827-d69a-4276-c612-6ee108320fdd",
        "id": "XkVx4zy1bB5r"
      },
      "outputs": [
        {
          "name": "stdout",
          "output_type": "stream",
          "text": [
            "p_value = 0.3279054180998051 - p_values равномерное распределение\n",
            "power: 100.0% , correctness: 94.0%\n"
          ]
        },
        {
          "data": {
            "image/png": "[encoded data removed]",
            "text/plain": [
              "<Figure size 800x600 with 1 Axes>"
            ]
          },
          "metadata": {},
          "output_type": "display_data"
        }
      ],
      "source": [
        "# Визуализация\n",
        "sns.set(rc={'figure.figsize': (8, 6)})\n",
        "sns.histplot(data=correctness, bins=10, color='blue', kde=True)\n",
        "sns.despine()\n",
        "\n",
        "stat, p_value = scipy.stats.kstest(correctness, scipy.stats.uniform(loc=0.0, scale=1.0).cdf)\n",
        "\n",
        "if p_value < 0.05:\n",
        "    print(f'p_value = {p_value} - p_values неравномерное распределение')\n",
        "else:\n",
        "    print(f'p_value = {p_value} - p_values равномерное распределение')\n",
        "\n",
        "# Расчет мощности и корректности\n",
        "power = (np.sum(power < 0.05) / len(power)) * 100\n",
        "correctness = (1 - (np.sum(correctness < 0.05) / len(correctness))) * 100\n",
        "\n",
        "print(f'power: {power}% , correctness: {correctness}%')"
      ]
    },
    {
      "cell_type": "markdown",
      "metadata": {
        "id": "Zmq2mlB4-q1q"
      },
      "source": [
        "### Вывод\n",
        "\n",
        "По резульатам тестов метрика cart_added_cnt с Cuped-преобразованием (ttest=0.16) помогает снизить дисперсию на порядок, как для обычной метрики, так и для логарифмированной (ttest=0.04), значения средних в группах А и В в cuped-метрике, ковариате и обычной равны, что соответствует логике преобразований. Эффект оносительно обычной метрики снижается незначительно на ковариате, а на cuped-метрике на порядок, до 0.61.\n",
        "\n",
        "T-test на логарифмированной с cuped-преобразованием нашел отличия там где их нет.\n",
        "\n",
        "Ранговый критерий (ttest=0.14), как в предыдущем задании, сильно увеличивает среднее и дисперсию, а также уменьшает величину эффекта до 0.19.\n",
        "\n",
        "Самое равномернорное распределение величины p_value на логарифмированной метрике с cuped-преобразованием. K-S статистика равна 0.98. Также ближе всего к заданному уровню ошибки в 0.05 значение корректности на логарифмированной метрике и равняется 95.6%. Мощность для всех комбинаций 100%.\n",
        "\n",
        "cart_added_cnt с Cuped-преобразованием и cart_added_cnt с Cuped-преобразованием с ранговым преобразованием примерно одинаково по величине мощности и корректности.\n",
        "\n",
        "K-S, Мощность и корректнось:\n",
        "\n",
        "cart_added_cnt с Cuped-преобразованием:\n",
        "- p_value = 0.5605175590041962 - p_values равномерное распределение.  \n",
        "- power: 100.0% , correctness: 95.89999999999999%.\n",
        "\n",
        "логарифмированная метрика cart_added_cnt с Cuped-преобразованием:\n",
        "- p_value = 0.9872394342704364 - p_values равномерное распределение\n",
        "- power: 100.0% , correctness: 95.6%\n",
        "\n",
        "метрика cart_added_cnt с Cuped-преобразованием + раноговая трансформация:\n",
        "- p_value = 0.3279054180998051 - p_values равномерное распределение\n",
        "- power: 100.0% , correctness: 94.0%"
      ]
    },
    {
      "cell_type": "markdown",
      "metadata": {
        "id": "60oQqL0F-K-y"
      },
      "source": [
        "## 3. Реализовать разбивку на бакеты, оценить t-критерием и сравнить с результатом без бакетирования:"
      ]
    },
    {
      "cell_type": "markdown",
      "metadata": {
        "id": "ONLFpjUo-LlA"
      },
      "source": [
        "### - на логнормальном распределении (сгенерированные данные) (5 баллов)"
      ]
    },
    {
      "cell_type": "code",
      "execution_count": null,
      "metadata": {
        "id": "wdf2Rv_4bB5s"
      },
      "outputs": [],
      "source": [
        "def bucket_sample(df, bucket_size, column_name):\n",
        "    # Функция для бакетирования внутри группы\n",
        "    def apply_bucket(group):\n",
        "        # Определяем количество бакетов для текущей группы\n",
        "        num_buckets = int(np.ceil(len(group) / bucket_size))\n",
        "\n",
        "        # Создаем индексы бакетов\n",
        "        bucket_indices = np.repeat(np.arange(num_buckets), bucket_size)[:len(group)]\n",
        "\n",
        "        # Добавляем индексы бакетов в группу\n",
        "        group['bucket'] = bucket_indices\n",
        "\n",
        "        return group\n",
        "\n",
        "    # Применяем функцию бакетирования к каждой группе, определенной столбцом 'group'\n",
        "    df = df.groupby('group', group_keys=False).apply(apply_bucket)\n",
        "\n",
        "    # Считаем среднее значение в каждом бакете по заданному столбцу и возвращаем как DataFrame\n",
        "    result_df = df.groupby(['group', 'bucket'], as_index=False)[column_name].mean()\n",
        "\n",
        "    return result_df"
      ]
    },
    {
      "cell_type": "code",
      "execution_count": null,
      "metadata": {
        "id": "5Ldnyg3siJbI"
      },
      "outputs": [],
      "source": [
        "np.random.seed(42)\n",
        "\n",
        "lognormal_data = pd.DataFrame({'value': np.random.lognormal(mean=0, sigma=1, size=1000000)})\n",
        "\n",
        "lognormal_data['group'] = np.random.choice(['A', 'B'], size=len(lognormal_data))\n",
        "\n",
        "bucket_data = bucket_sample(lognormal_data, 10, 'value')\n",
        "\n",
        "bucket_sort_data = bucket_sample(lognormal_data.sort_values('value'), 10, 'value')"
      ]
    },
    {
      "cell_type": "code",
      "execution_count": null,
      "metadata": {
        "id": "ohrKl1GBbB5s",
        "outputId": "5a0ac8e3-8250-450b-a78b-ae95602bd659"
      },
      "outputs": [
        {
          "data": {
            "text/html": [
              "<div>\n",
              "<style scoped>\n",
              "    .dataframe tbody tr th:only-of-type {\n",
              "        vertical-align: middle;\n",
              "    }\n",
              "\n",
              "    .dataframe tbody tr th {\n",
              "        vertical-align: top;\n",
              "    }\n",
              "\n",
              "    .dataframe thead th {\n",
              "        text-align: right;\n",
              "    }\n",
              "</style>\n",
              "<table border=\"1\" class=\"dataframe\">\n",
              "  <thead>\n",
              "    <tr style=\"text-align: right;\">\n",
              "      <th></th>\n",
              "      <th>Mean A</th>\n",
              "      <th>Mean B</th>\n",
              "      <th>Relative Mean Diff, %</th>\n",
              "      <th>Variance A</th>\n",
              "      <th>Variance B</th>\n",
              "    </tr>\n",
              "    <tr>\n",
              "      <th>Metric</th>\n",
              "      <th></th>\n",
              "      <th></th>\n",
              "      <th></th>\n",
              "      <th></th>\n",
              "      <th></th>\n",
              "    </tr>\n",
              "  </thead>\n",
              "  <tbody>\n",
              "    <tr>\n",
              "      <th>bucket_data</th>\n",
              "      <td>1.65</td>\n",
              "      <td>1.65</td>\n",
              "      <td>-0.03</td>\n",
              "      <td>0.45</td>\n",
              "      <td>0.46</td>\n",
              "    </tr>\n",
              "    <tr>\n",
              "      <th>bucket_sort_data</th>\n",
              "      <td>1.65</td>\n",
              "      <td>1.65</td>\n",
              "      <td>0.08</td>\n",
              "      <td>4.59</td>\n",
              "      <td>4.80</td>\n",
              "    </tr>\n",
              "    <tr>\n",
              "      <th>lognormal_data</th>\n",
              "      <td>1.65</td>\n",
              "      <td>1.65</td>\n",
              "      <td>-0.03</td>\n",
              "      <td>4.58</td>\n",
              "      <td>4.61</td>\n",
              "    </tr>\n",
              "  </tbody>\n",
              "</table>\n",
              "</div>"
            ],
            "text/plain": [
              "                  Mean A  Mean B  Relative Mean Diff, %  Variance A  \\\n",
              "Metric                                                                \n",
              "bucket_data         1.65    1.65                  -0.03        0.45   \n",
              "bucket_sort_data    1.65    1.65                   0.08        4.59   \n",
              "lognormal_data      1.65    1.65                  -0.03        4.58   \n",
              "\n",
              "                  Variance B  \n",
              "Metric                        \n",
              "bucket_data             0.46  \n",
              "bucket_sort_data        4.80  \n",
              "lognormal_data          4.61  "
            ]
          },
          "execution_count": 42,
          "metadata": {},
          "output_type": "execute_result"
        }
      ],
      "source": [
        "ex3_stat = calculate_statistics(bucket_data, 'value',\n",
        "                     bucket_sort_data, 'value',\n",
        "                     lognormal_data, 'value').reset_index()\n",
        "\n",
        "ex3_stat['Metric'] = ['bucket_data', 'bucket_sort_data', 'lognormal_data']\n",
        "\n",
        "ex3_stat.set_index('Metric')"
      ]
    },
    {
      "cell_type": "markdown",
      "metadata": {
        "id": "MLjzNbGZbB5s"
      },
      "source": [
        "Бакетирование ttest"
      ]
    },
    {
      "cell_type": "code",
      "execution_count": null,
      "metadata": {
        "id": "B_bxz33gbB5s",
        "outputId": "358e9f5c-12fe-44e9-c206-731f7b557a49"
      },
      "outputs": [
        {
          "data": {
            "text/plain": [
              "TtestResult(statistic=np.float64(0.11348266719938499), pvalue=np.float64(0.9096481316887148), df=np.float64(99999.0))"
            ]
          },
          "execution_count": 43,
          "metadata": {},
          "output_type": "execute_result"
        }
      ],
      "source": [
        "stats.ttest_ind(bucket_data[bucket_data['group'] == 'A']['value'],\n",
        "                bucket_data[bucket_data['group'] == 'B']['value'])"
      ]
    },
    {
      "cell_type": "markdown",
      "metadata": {
        "id": "uwnKQH6TbB5s"
      },
      "source": [
        "Бакетирование c сортировкой ttest"
      ]
    },
    {
      "cell_type": "code",
      "execution_count": null,
      "metadata": {
        "id": "ug4XLrVjbB5t",
        "outputId": "40d40b9a-d97e-4477-f40a-5773f9711aec"
      },
      "outputs": [
        {
          "data": {
            "text/plain": [
              "TtestResult(statistic=np.float64(-0.09330608049431387), pvalue=np.float64(0.9256605885484142), df=np.float64(99999.0))"
            ]
          },
          "execution_count": 44,
          "metadata": {},
          "output_type": "execute_result"
        }
      ],
      "source": [
        "stats.ttest_ind(bucket_sort_data[bucket_sort_data['group'] == 'A']['value'],\n",
        "                bucket_sort_data[bucket_sort_data['group'] == 'B']['value'])"
      ]
    },
    {
      "cell_type": "markdown",
      "metadata": {
        "id": "LjW4tzOEbB5t"
      },
      "source": [
        "Без бакетирования логнормальное распределение ttest"
      ]
    },
    {
      "cell_type": "code",
      "execution_count": null,
      "metadata": {
        "scrolled": true,
        "id": "JkaoQI-vbB5t",
        "outputId": "c6aa0191-6a90-4f22-f086-8e3a956af526"
      },
      "outputs": [
        {
          "data": {
            "text/plain": [
              "TtestResult(statistic=np.float64(0.11294303761789681), pvalue=np.float64(0.9100757381888448), df=np.float64(999998.0))"
            ]
          },
          "execution_count": 45,
          "metadata": {},
          "output_type": "execute_result"
        }
      ],
      "source": [
        "stats.ttest_ind(lognormal_data[lognormal_data['group'] == 'A']['value'],\n",
        "                lognormal_data[lognormal_data['group'] == 'B']['value'])"
      ]
    },
    {
      "cell_type": "markdown",
      "metadata": {
        "id": "lk1BH4tAbB5t"
      },
      "source": [
        "### Мощность и корректность"
      ]
    },
    {
      "cell_type": "markdown",
      "metadata": {
        "id": "x-NO8yXWp2-p"
      },
      "source": [
        "Бакетирование ttest"
      ]
    },
    {
      "cell_type": "code",
      "execution_count": null,
      "metadata": {
        "colab": {
          "base_uri": "https://localhost:8080/",
          "height": 649
        },
        "id": "Yc7AC6_5mEpU",
        "outputId": "2af47653-ffd0-4a3b-e5e2-b05a589623df",
        "scrolled": true
      },
      "outputs": [
        {
          "name": "stderr",
          "output_type": "stream",
          "text": [
            "100%|███████████████████████████████████████| 1000/1000 [00:57<00:00, 17.52it/s]\n"
          ]
        }
      ],
      "source": [
        "def process_iteration(i):\n",
        "\n",
        "    warnings.filterwarnings(\"ignore\")\n",
        "\n",
        "    # Генерация новых групп A и B\n",
        "    new_group = lognormal_data.copy()\n",
        "    new_group['group'] = np.random.choice(['A', 'B'], size=len(lognormal_data))\n",
        "\n",
        "    bucket_data = bucket_sample(new_group, 10, 'value')\n",
        "\n",
        "    # Разделение данных на группы A и B\n",
        "    vec_a = bucket_data[bucket_data['group'] == 'A']['value']\n",
        "    vec_b = bucket_data[bucket_data['group'] == 'B']['value']\n",
        "\n",
        "    # Применение эффекта к группе B\n",
        "    vec_b_effect = vec_b * 1.05\n",
        "\n",
        "    # Вычисление p-значений с помощью t-теста\n",
        "    p_cor = stats.ttest_ind(vec_a, vec_b)[1]\n",
        "    p_power = stats.ttest_ind(vec_a, vec_b_effect)[1]\n",
        "\n",
        "    return p_cor, p_power\n",
        "\n",
        "# Параллельное выполнение итераций\n",
        "results = Parallel(n_jobs=-1)(\n",
        "    delayed(process_iteration)(i) for i in tqdm(range(NUM_ITERATIONS))\n",
        ")\n",
        "\n",
        "# Извлечение результатов\n",
        "correctness = np.array([res[0] for res in results])\n",
        "power = np.array([res[1] for res in results])"
      ]
    },
    {
      "cell_type": "code",
      "execution_count": null,
      "metadata": {
        "colab": {
          "base_uri": "https://localhost:8080/",
          "height": 649
        },
        "outputId": "2af47653-ffd0-4a3b-e5e2-b05a589623df",
        "id": "H4cJ5sa2bB5t"
      },
      "outputs": [
        {
          "name": "stdout",
          "output_type": "stream",
          "text": [
            "p_value = 0.263357108973473 - p_values равномерное распределение\n",
            "power: 100.0% , correctness: 94.19999999999999%\n"
          ]
        },
        {
          "data": {
            "image/png": "[encoded data removed]",
            "text/plain": [
              "<Figure size 800x600 with 1 Axes>"
            ]
          },
          "metadata": {},
          "output_type": "display_data"
        }
      ],
      "source": [
        "# Визуализация\n",
        "sns.set(rc={'figure.figsize': (8, 6)})\n",
        "sns.histplot(data=correctness, bins=10, color='blue', kde=True)\n",
        "sns.despine()\n",
        "\n",
        "stat, p_value = scipy.stats.kstest(correctness, scipy.stats.uniform(loc=0.0, scale=1.0).cdf)\n",
        "\n",
        "if p_value < 0.05:\n",
        "    print(f'p_value = {p_value} - p_values неравномерное распределение')\n",
        "else:\n",
        "    print(f'p_value = {p_value} - p_values равномерное распределение')\n",
        "\n",
        "# Расчет мощности и корректности\n",
        "power = (np.sum(power < 0.05) / len(power)) * 100\n",
        "correctness = (1 - (np.sum(correctness < 0.05) / len(correctness))) * 100\n",
        "\n",
        "print(f'power: {power}% , correctness: {correctness}%')"
      ]
    },
    {
      "cell_type": "markdown",
      "metadata": {
        "id": "ZEX7_Ey-pxm0"
      },
      "source": [
        "Бакетирование с сортировкой ttest"
      ]
    },
    {
      "cell_type": "code",
      "execution_count": null,
      "metadata": {
        "colab": {
          "base_uri": "https://localhost:8080/",
          "height": 735
        },
        "id": "e7jGXw2ipoxE",
        "outputId": "ec25fa1d-11f4-4cc7-8c2b-39af8560e31b"
      },
      "outputs": [
        {
          "name": "stderr",
          "output_type": "stream",
          "text": [
            "100%|███████████████████████████████████████| 1000/1000 [00:58<00:00, 17.12it/s]\n"
          ]
        }
      ],
      "source": [
        "def process_iteration(i):\n",
        "\n",
        "    warnings.filterwarnings(\"ignore\")\n",
        "\n",
        "    # Генерация новых групп A и B\n",
        "    new_group = lognormal_data.copy()\n",
        "    new_group['group'] = np.random.choice(['A', 'B'], size=len(lognormal_data))\n",
        "\n",
        "    bucket_sort_data = bucket_sample(new_group, 10, 'value')\n",
        "\n",
        "    # Разделение данных на группы A и B\n",
        "    vec_a = bucket_sort_data[bucket_sort_data['group'] == 'A']['value']\n",
        "    vec_b = bucket_sort_data[bucket_sort_data['group'] == 'B']['value']\n",
        "\n",
        "    # Применение эффекта к группе B\n",
        "    vec_b_effect = vec_b * 1.05\n",
        "\n",
        "    # Вычисление p-значений с помощью t-теста\n",
        "    p_cor = stats.ttest_ind(vec_a, vec_b)[1]\n",
        "    p_power = stats.ttest_ind(vec_a, vec_b_effect)[1]\n",
        "\n",
        "    return p_cor, p_power\n",
        "\n",
        "# Параллельное выполнение итераций\n",
        "results = Parallel(n_jobs=-1)(\n",
        "    delayed(process_iteration)(i) for i in tqdm(range(NUM_ITERATIONS))\n",
        ")\n",
        "\n",
        "# Извлечение результатов\n",
        "correctness = np.array([res[0] for res in results])\n",
        "power = np.array([res[1] for res in results])"
      ]
    },
    {
      "cell_type": "code",
      "execution_count": null,
      "metadata": {
        "colab": {
          "base_uri": "https://localhost:8080/",
          "height": 735
        },
        "outputId": "ec25fa1d-11f4-4cc7-8c2b-39af8560e31b",
        "id": "LPmWThpAbB5t"
      },
      "outputs": [
        {
          "name": "stdout",
          "output_type": "stream",
          "text": [
            "p_value = 0.541204202914946 - p_values равномерное распределение\n",
            "power: 100.0% , correctness: 96.3%\n"
          ]
        },
        {
          "data": {
            "image/png": "[encoded data removed]",
            "text/plain": [
              "<Figure size 800x600 with 1 Axes>"
            ]
          },
          "metadata": {},
          "output_type": "display_data"
        }
      ],
      "source": [
        "# Визуализация\n",
        "sns.set(rc={'figure.figsize': (8, 6)})\n",
        "sns.histplot(data=correctness, bins=10, color='blue', kde=True)\n",
        "sns.despine()\n",
        "\n",
        "stat, p_value = scipy.stats.kstest(correctness, scipy.stats.uniform(loc=0.0, scale=1.0).cdf)\n",
        "\n",
        "if p_value < 0.05:\n",
        "    print(f'p_value = {p_value} - p_values неравномерное распределение')\n",
        "else:\n",
        "    print(f'p_value = {p_value} - p_values равномерное распределение')\n",
        "\n",
        "# Расчет мощности и корректности\n",
        "power = (np.sum(power < 0.05) / len(power)) * 100\n",
        "correctness = (1 - (np.sum(correctness < 0.05) / len(correctness))) * 100\n",
        "\n",
        "print(f'power: {power}% , correctness: {correctness}%')"
      ]
    },
    {
      "cell_type": "markdown",
      "metadata": {
        "id": "oSEegAEWbB5u"
      },
      "source": [
        "Без бакетирования логнормальное распределение ttest"
      ]
    },
    {
      "cell_type": "code",
      "execution_count": null,
      "metadata": {
        "colab": {
          "base_uri": "https://localhost:8080/",
          "height": 805
        },
        "id": "67kga6v_nviW",
        "outputId": "25fa2779-c08b-47e4-908f-358611120713",
        "scrolled": true
      },
      "outputs": [
        {
          "name": "stderr",
          "output_type": "stream",
          "text": [
            "100%|███████████████████████████████████████| 1000/1000 [00:19<00:00, 51.17it/s]\n"
          ]
        }
      ],
      "source": [
        "def process_iteration(i):\n",
        "    # Генерация новых групп A и B\n",
        "    new_group = lognormal_data.copy()\n",
        "    new_group['group'] = np.random.choice(['A', 'B'], size=len(lognormal_data))\n",
        "\n",
        "    # Разделение данных на группы A и B\n",
        "    vec_a = new_group[new_group['group'] == 'A']['value']\n",
        "    vec_b = new_group[new_group['group'] == 'B']['value']\n",
        "\n",
        "    # Применение эффекта к группе B\n",
        "    vec_b_effect = vec_b * 1.05\n",
        "\n",
        "    # Вычисление p-значений с помощью t-теста\n",
        "    p_cor = stats.ttest_ind(vec_a, vec_b)[1]\n",
        "    p_power = stats.ttest_ind(vec_a, vec_b_effect)[1]\n",
        "\n",
        "    return p_cor, p_power\n",
        "\n",
        "# Параллельное выполнение итераций\n",
        "results = Parallel(n_jobs=-1)(\n",
        "    delayed(process_iteration)(i) for i in tqdm(range(NUM_ITERATIONS))\n",
        ")\n",
        "\n",
        "# Извлечение результатов\n",
        "correctness = np.array([res[0] for res in results])\n",
        "power = np.array([res[1] for res in results])"
      ]
    },
    {
      "cell_type": "code",
      "execution_count": null,
      "metadata": {
        "colab": {
          "base_uri": "https://localhost:8080/",
          "height": 805
        },
        "outputId": "25fa2779-c08b-47e4-908f-358611120713",
        "id": "dQgRDF8LbB5u"
      },
      "outputs": [
        {
          "name": "stdout",
          "output_type": "stream",
          "text": [
            "p_value = 0.7635802748711191 - p_values равномерное распределение\n",
            "power: 100.0% , correctness: 94.6%\n"
          ]
        },
        {
          "data": {
            "image/png": "[encoded data removed]",
            "text/plain": [
              "<Figure size 800x600 with 1 Axes>"
            ]
          },
          "metadata": {},
          "output_type": "display_data"
        }
      ],
      "source": [
        "# Визуализация\n",
        "sns.set(rc={'figure.figsize': (8, 6)})\n",
        "sns.histplot(data=correctness, bins=10, color='blue', kde=True)\n",
        "sns.despine()\n",
        "\n",
        "stat, p_value = scipy.stats.kstest(correctness, scipy.stats.uniform(loc=0.0, scale=1.0).cdf)\n",
        "\n",
        "if p_value < 0.05:\n",
        "    print(f'p_value = {p_value} - p_values неравномерное распределение')\n",
        "else:\n",
        "    print(f'p_value = {p_value} - p_values равномерное распределение')\n",
        "\n",
        "# Расчет мощности и корректности\n",
        "power = (np.sum(power < 0.05) / len(power)) * 100\n",
        "correctness = (1 - (np.sum(correctness < 0.05) / len(correctness))) * 100\n",
        "\n",
        "print(f'power: {power}% , correctness: {correctness}%')"
      ]
    },
    {
      "cell_type": "markdown",
      "metadata": {
        "id": "tDkuLZW7-L59"
      },
      "source": [
        "### - на метрике cart_added_cnt (5 баллов)"
      ]
    },
    {
      "cell_type": "code",
      "execution_count": null,
      "metadata": {
        "colab": {
          "base_uri": "https://localhost:8080/"
        },
        "id": "Ct4Z1sqKoT-N",
        "outputId": "4e7ab82d-2d5b-4a40-ab4f-443eb7bd2838"
      },
      "outputs": [
        {
          "name": "stdout",
          "output_type": "stream",
          "text": [
            "(74174, 3)\n"
          ]
        }
      ],
      "source": [
        "bucket_data = bucket_sample(shop_metrics_new, 3, 'cart_added_cnt')\n",
        "\n",
        "bucket_sort_data = bucket_sample(shop_metrics_new.sort_values('cart_added_cnt'), 3, 'cart_added_cnt')\n",
        "\n",
        "print(bucket_data.shape)"
      ]
    },
    {
      "cell_type": "code",
      "execution_count": null,
      "metadata": {
        "id": "Q9J_ZQFYbB5u",
        "outputId": "1958773e-0dc5-44a9-dc04-5eeb554ca437"
      },
      "outputs": [
        {
          "data": {
            "text/html": [
              "<div>\n",
              "<style scoped>\n",
              "    .dataframe tbody tr th:only-of-type {\n",
              "        vertical-align: middle;\n",
              "    }\n",
              "\n",
              "    .dataframe tbody tr th {\n",
              "        vertical-align: top;\n",
              "    }\n",
              "\n",
              "    .dataframe thead th {\n",
              "        text-align: right;\n",
              "    }\n",
              "</style>\n",
              "<table border=\"1\" class=\"dataframe\">\n",
              "  <thead>\n",
              "    <tr style=\"text-align: right;\">\n",
              "      <th></th>\n",
              "      <th>Mean A</th>\n",
              "      <th>Mean B</th>\n",
              "      <th>Relative Mean Diff, %</th>\n",
              "      <th>Variance A</th>\n",
              "      <th>Variance B</th>\n",
              "    </tr>\n",
              "    <tr>\n",
              "      <th>Metric</th>\n",
              "      <th></th>\n",
              "      <th></th>\n",
              "      <th></th>\n",
              "      <th></th>\n",
              "      <th></th>\n",
              "    </tr>\n",
              "  </thead>\n",
              "  <tbody>\n",
              "    <tr>\n",
              "      <th>bucket_data</th>\n",
              "      <td>0.14</td>\n",
              "      <td>0.14</td>\n",
              "      <td>2.60</td>\n",
              "      <td>0.13</td>\n",
              "      <td>0.14</td>\n",
              "    </tr>\n",
              "    <tr>\n",
              "      <th>bucket_sort_data</th>\n",
              "      <td>0.14</td>\n",
              "      <td>0.14</td>\n",
              "      <td>3.03</td>\n",
              "      <td>0.38</td>\n",
              "      <td>0.46</td>\n",
              "    </tr>\n",
              "    <tr>\n",
              "      <th>cart_added_cnt</th>\n",
              "      <td>0.14</td>\n",
              "      <td>0.14</td>\n",
              "      <td>2.60</td>\n",
              "      <td>0.38</td>\n",
              "      <td>0.42</td>\n",
              "    </tr>\n",
              "  </tbody>\n",
              "</table>\n",
              "</div>"
            ],
            "text/plain": [
              "                  Mean A  Mean B  Relative Mean Diff, %  Variance A  \\\n",
              "Metric                                                                \n",
              "bucket_data         0.14    0.14                   2.60        0.13   \n",
              "bucket_sort_data    0.14    0.14                   3.03        0.38   \n",
              "cart_added_cnt      0.14    0.14                   2.60        0.38   \n",
              "\n",
              "                  Variance B  \n",
              "Metric                        \n",
              "bucket_data             0.14  \n",
              "bucket_sort_data        0.46  \n",
              "cart_added_cnt          0.42  "
            ]
          },
          "execution_count": 53,
          "metadata": {},
          "output_type": "execute_result"
        }
      ],
      "source": [
        "ex3_stat = calculate_statistics(bucket_data, 'cart_added_cnt',\n",
        "                     bucket_sort_data, 'cart_added_cnt',\n",
        "                     shop_metrics_new, 'cart_added_cnt').reset_index()\n",
        "\n",
        "ex3_stat['Metric'] = ['bucket_data', 'bucket_sort_data', 'cart_added_cnt']\n",
        "\n",
        "ex3_stat.set_index('Metric')"
      ]
    },
    {
      "cell_type": "markdown",
      "metadata": {
        "id": "ceJ9k1cVbB5u"
      },
      "source": [
        "Бакетирование ttest"
      ]
    },
    {
      "cell_type": "code",
      "execution_count": null,
      "metadata": {
        "id": "C0gyN04XbB5u",
        "outputId": "eead85ea-2826-40bd-ac40-8243825fa055"
      },
      "outputs": [
        {
          "data": {
            "text/plain": [
              "TtestResult(statistic=np.float64(-1.3008055004509842), pvalue=np.float64(0.1933290799141004), df=np.float64(74172.0))"
            ]
          },
          "execution_count": 54,
          "metadata": {},
          "output_type": "execute_result"
        }
      ],
      "source": [
        "stats.ttest_ind(bucket_data[bucket_data['group'] == 'A']['cart_added_cnt'],\n",
        "                bucket_data[bucket_data['group'] == 'B']['cart_added_cnt'])"
      ]
    },
    {
      "cell_type": "markdown",
      "metadata": {
        "id": "woNeMm_tbB5v"
      },
      "source": [
        "Бакетирование с сортировкой ttest"
      ]
    },
    {
      "cell_type": "code",
      "execution_count": null,
      "metadata": {
        "id": "hEcajd6BbB5v",
        "outputId": "e32aedeb-0aad-44af-f50b-afc6845c7e0e"
      },
      "outputs": [
        {
          "data": {
            "text/plain": [
              "TtestResult(statistic=np.float64(-0.8618507837444006), pvalue=np.float64(0.3887724212962044), df=np.float64(74172.0))"
            ]
          },
          "execution_count": 55,
          "metadata": {},
          "output_type": "execute_result"
        }
      ],
      "source": [
        "stats.ttest_ind(bucket_sort_data[bucket_sort_data['group'] == 'A']['cart_added_cnt'],\n",
        "                bucket_sort_data[bucket_sort_data['group'] == 'B']['cart_added_cnt'])"
      ]
    },
    {
      "cell_type": "markdown",
      "metadata": {
        "id": "jt5tc7W5bB5v"
      },
      "source": [
        "Без бакетирования ttest"
      ]
    },
    {
      "cell_type": "code",
      "execution_count": null,
      "metadata": {
        "id": "a9LvlswZbB5v",
        "outputId": "bd0acb87-45f5-4674-8571-988698bc3a20"
      },
      "outputs": [
        {
          "data": {
            "text/plain": [
              "TtestResult(statistic=np.float64(-1.3047727178459143), pvalue=np.float64(0.1919716009958315), df=np.float64(222519.0))"
            ]
          },
          "execution_count": 56,
          "metadata": {},
          "output_type": "execute_result"
        }
      ],
      "source": [
        "stats.ttest_ind(shop_metrics_new[shop_metrics_new['group'] == 'A']['cart_added_cnt'],\n",
        "                shop_metrics_new[shop_metrics_new['group'] == 'B']['cart_added_cnt'])"
      ]
    },
    {
      "cell_type": "markdown",
      "metadata": {
        "id": "KsO8IZcUbB5v"
      },
      "source": [
        "#### Мощность и корректнось"
      ]
    },
    {
      "cell_type": "markdown",
      "metadata": {
        "id": "xO5EA55QbB5v"
      },
      "source": [
        "Бакетирование ttest"
      ]
    },
    {
      "cell_type": "code",
      "execution_count": null,
      "metadata": {
        "colab": {
          "base_uri": "https://localhost:8080/",
          "height": 1000
        },
        "id": "XLpRrjXktoSY",
        "outputId": "f2a933fe-e378-4f19-a0cb-05785d3f9b82"
      },
      "outputs": [
        {
          "name": "stderr",
          "output_type": "stream",
          "text": [
            "100%|███████████████████████████████████████| 1000/1000 [01:07<00:00, 14.77it/s]\n"
          ]
        }
      ],
      "source": [
        "def process_iteration(i):\n",
        "\n",
        "    warnings.filterwarnings(\"ignore\")\n",
        "\n",
        "    # Генерация новых групп A и B\n",
        "    new_group = groups_splitter(shop.copy(),\n",
        "                                user_salt=salt_generator())\n",
        "    new_df = pd.merge(shop, new_group, how=\"left\", on=['user_id']).drop_duplicates()\n",
        "\n",
        "    bucket_data = bucket_sample(new_df, 3, 'cart_added_cnt')\n",
        "\n",
        "    # Разделение данных на группы A и B\n",
        "    vec_a = bucket_data[bucket_data['group'] == 'A']['cart_added_cnt']\n",
        "    vec_b = bucket_data[bucket_data['group'] == 'B']['cart_added_cnt']\n",
        "\n",
        "    # Применение эффекта к группе B\n",
        "    vec_b_effect = vec_b * 1.05\n",
        "\n",
        "    # Вычисление p-значений с помощью t-теста\n",
        "    p_cor = stats.ttest_ind(vec_a, vec_b)[1]\n",
        "    p_power = stats.ttest_ind(vec_a, vec_b_effect)[1]\n",
        "\n",
        "    return p_cor, p_power\n",
        "\n",
        "# Параллельное выполнение итераций\n",
        "results = Parallel(n_jobs=-1)(\n",
        "    delayed(process_iteration)(i) for i in tqdm(range(NUM_ITERATIONS))\n",
        ")\n",
        "\n",
        "# Извлечение результатов\n",
        "correctness = np.array([res[0] for res in results])\n",
        "power = np.array([res[1] for res in results])"
      ]
    },
    {
      "cell_type": "code",
      "execution_count": null,
      "metadata": {
        "colab": {
          "base_uri": "https://localhost:8080/",
          "height": 1000
        },
        "outputId": "f2a933fe-e378-4f19-a0cb-05785d3f9b82",
        "id": "wTnJaso_bB5v"
      },
      "outputs": [
        {
          "name": "stdout",
          "output_type": "stream",
          "text": [
            "p_value = 0.11238590407540583 - p_values равномерное распределение\n",
            "power: 70.1% , correctness: 95.7%\n"
          ]
        },
        {
          "data": {
            "image/png": "[encoded data removed]",
            "text/plain": [
              "<Figure size 800x600 with 1 Axes>"
            ]
          },
          "metadata": {},
          "output_type": "display_data"
        }
      ],
      "source": [
        "# Визуализация\n",
        "sns.set(rc={'figure.figsize': (8, 6)})\n",
        "sns.histplot(data=correctness, bins=10, color='blue', kde=True)\n",
        "sns.despine()\n",
        "\n",
        "stat, p_value = scipy.stats.kstest(correctness, scipy.stats.uniform(loc=0.0, scale=1.0).cdf)\n",
        "\n",
        "if p_value < 0.05:\n",
        "    print(f'p_value = {p_value} - p_values неравномерное распределение')\n",
        "else:\n",
        "    print(f'p_value = {p_value} - p_values равномерное распределение')\n",
        "\n",
        "# Расчет мощности и корректности\n",
        "power = (np.sum(power < 0.05) / len(power)) * 100\n",
        "correctness = (1 - (np.sum(correctness < 0.05) / len(correctness))) * 100\n",
        "\n",
        "print(f'power: {power}% , correctness: {correctness}%')"
      ]
    },
    {
      "cell_type": "markdown",
      "metadata": {
        "id": "UdwONh6fbB5v"
      },
      "source": [
        "Бакетирование с сортировкой ttest"
      ]
    },
    {
      "cell_type": "code",
      "execution_count": null,
      "metadata": {
        "colab": {
          "base_uri": "https://localhost:8080/",
          "height": 1000
        },
        "id": "VbAGXjVius_a",
        "outputId": "a0172f03-46ab-4718-c527-d4a10fb8f7c2"
      },
      "outputs": [
        {
          "name": "stderr",
          "output_type": "stream",
          "text": [
            "100%|███████████████████████████████████████| 1000/1000 [01:11<00:00, 13.91it/s]\n"
          ]
        }
      ],
      "source": [
        "def process_iteration(i):\n",
        "\n",
        "    warnings.filterwarnings(\"ignore\")\n",
        "\n",
        "    # Генерация новых групп A и B\n",
        "    new_group = groups_splitter(shop.copy(),\n",
        "                                user_salt=salt_generator())\n",
        "    new_df = pd.merge(shop, new_group, how=\"left\", on=['user_id']).drop_duplicates()\n",
        "\n",
        "    bucket_sort_data = bucket_sample(new_df.sort_values('cart_added_cnt'), 3, 'cart_added_cnt')\n",
        "\n",
        "    # Разделение данных на группы A и B\n",
        "    vec_a = bucket_sort_data[bucket_sort_data['group'] == 'A']['cart_added_cnt']\n",
        "    vec_b = bucket_sort_data[bucket_sort_data['group'] == 'B']['cart_added_cnt']\n",
        "\n",
        "    # Применение эффекта к группе B\n",
        "    vec_b_effect = vec_b * 1.05\n",
        "\n",
        "    # Вычисление p-значений с помощью t-теста\n",
        "    p_cor = stats.ttest_ind(vec_a, vec_b)[1]\n",
        "    p_power = stats.ttest_ind(vec_a, vec_b_effect)[1]\n",
        "\n",
        "    return p_cor, p_power\n",
        "\n",
        "# Параллельное выполнение итераций\n",
        "results = Parallel(n_jobs=-1)(\n",
        "    delayed(process_iteration)(i) for i in tqdm(range(NUM_ITERATIONS))\n",
        ")\n",
        "\n",
        "# Извлечение результатов\n",
        "correctness = np.array([res[0] for res in results])\n",
        "power = np.array([res[1] for res in results])"
      ]
    },
    {
      "cell_type": "code",
      "execution_count": null,
      "metadata": {
        "colab": {
          "base_uri": "https://localhost:8080/",
          "height": 1000
        },
        "outputId": "a0172f03-46ab-4718-c527-d4a10fb8f7c2",
        "id": "24DwisJYbB5v"
      },
      "outputs": [
        {
          "name": "stdout",
          "output_type": "stream",
          "text": [
            "p_value = 1.4057247961602257e-52 - p_values неравномерное распределение\n",
            "power: 18.0% , correctness: 99.8%\n"
          ]
        },
        {
          "data": {
            "image/png": "[encoded data removed]",
            "text/plain": [
              "<Figure size 800x600 with 1 Axes>"
            ]
          },
          "metadata": {},
          "output_type": "display_data"
        }
      ],
      "source": [
        "# Визуализация\n",
        "sns.set(rc={'figure.figsize': (8, 6)})\n",
        "sns.histplot(data=correctness, bins=10, color='blue', kde=True)\n",
        "sns.despine()\n",
        "\n",
        "stat, p_value = scipy.stats.kstest(correctness, scipy.stats.uniform(loc=0.0, scale=1.0).cdf)\n",
        "\n",
        "if p_value < 0.05:\n",
        "    print(f'p_value = {p_value} - p_values неравномерное распределение')\n",
        "else:\n",
        "    print(f'p_value = {p_value} - p_values равномерное распределение')\n",
        "\n",
        "# Расчет мощности и корректности\n",
        "power = (np.sum(power < 0.05) / len(power)) * 100\n",
        "correctness = (1 - (np.sum(correctness < 0.05) / len(correctness))) * 100\n",
        "\n",
        "print(f'power: {power}% , correctness: {correctness}%')"
      ]
    },
    {
      "cell_type": "markdown",
      "metadata": {
        "id": "goBK9zo1bB5v"
      },
      "source": [
        "Без бакетирования ttest"
      ]
    },
    {
      "cell_type": "code",
      "execution_count": null,
      "metadata": {
        "colab": {
          "base_uri": "https://localhost:8080/",
          "height": 1000
        },
        "id": "hVtsmg18uyHW",
        "outputId": "7c75502f-393d-45de-9412-d337f7d5e0fe"
      },
      "outputs": [
        {
          "name": "stderr",
          "output_type": "stream",
          "text": [
            "100%|███████████████████████████████████████| 1000/1000 [01:00<00:00, 16.65it/s]\n"
          ]
        }
      ],
      "source": [
        "def process_iteration(i):\n",
        "    # Генерация новых групп A и B\n",
        "    new_group = groups_splitter(shop.copy(),\n",
        "                                user_salt=salt_generator())\n",
        "    new_df = pd.merge(shop, new_group, how=\"left\", on=['user_id']).drop_duplicates()\n",
        "    # Разделение данных на группы A и B\n",
        "    vec_a = new_df[new_df['group'] == 'A']['cart_added_cnt']\n",
        "    vec_b = new_df[new_df['group'] == 'B']['cart_added_cnt']\n",
        "\n",
        "    # Применение эффекта к группе B\n",
        "    vec_b_effect = vec_b * 1.05\n",
        "\n",
        "    # Вычисление p-значений с помощью t-теста\n",
        "    p_cor = stats.ttest_ind(vec_a, vec_b)[1]\n",
        "    p_power = stats.ttest_ind(vec_a, vec_b_effect)[1]\n",
        "\n",
        "    return p_cor, p_power\n",
        "\n",
        "# Параллельное выполнение итераций\n",
        "results = Parallel(n_jobs=-1)(\n",
        "    delayed(process_iteration)(i) for i in tqdm(range(NUM_ITERATIONS))\n",
        ")\n",
        "\n",
        "# Извлечение результатов\n",
        "correctness = np.array([res[0] for res in results])\n",
        "power = np.array([res[1] for res in results])"
      ]
    },
    {
      "cell_type": "code",
      "execution_count": null,
      "metadata": {
        "colab": {
          "base_uri": "https://localhost:8080/",
          "height": 1000
        },
        "outputId": "7c75502f-393d-45de-9412-d337f7d5e0fe",
        "id": "tiL7wEhSbB5v"
      },
      "outputs": [
        {
          "name": "stdout",
          "output_type": "stream",
          "text": [
            "p_value = 0.589549030405886 - p_values равномерное распределение\n",
            "power: 70.8% , correctness: 95.19999999999999%\n"
          ]
        },
        {
          "data": {
            "image/png": "[encoded data removed]",
            "text/plain": [
              "<Figure size 800x600 with 1 Axes>"
            ]
          },
          "metadata": {},
          "output_type": "display_data"
        }
      ],
      "source": [
        "# Визуализация\n",
        "sns.set(rc={'figure.figsize': (8, 6)})\n",
        "sns.histplot(data=correctness, bins=10, color='blue', kde=True)\n",
        "sns.despine()\n",
        "\n",
        "stat, p_value = scipy.stats.kstest(correctness, scipy.stats.uniform(loc=0.0, scale=1.0).cdf)\n",
        "\n",
        "if p_value < 0.05:\n",
        "    print(f'p_value = {p_value} - p_values неравномерное распределение')\n",
        "else:\n",
        "    print(f'p_value = {p_value} - p_values равномерное распределение')\n",
        "\n",
        "# Расчет мощности и корректности\n",
        "power = (np.sum(power < 0.05) / len(power)) * 100\n",
        "correctness = (1 - (np.sum(correctness < 0.05) / len(correctness))) * 100\n",
        "\n",
        "print(f'power: {power}% , correctness: {correctness}%')"
      ]
    },
    {
      "cell_type": "markdown",
      "metadata": {
        "id": "XsvVbyQTbB5v"
      },
      "source": [
        "### Вывод\n",
        "\n",
        "**Для логнормального распределния:**\n",
        "\n",
        "T-test для всех комбинаций (логнормальное распределение с бакетированием, логнормальное распределение с бакетированием по сортировке, просто логнормальное распределение) на одном уровне (p_value=0.9), то есть тест не находит отличий там где их нет. Также как и среднее везде равно 1.65 для всех групп, как до бакетирования, так и после.\n",
        "\n",
        "Бакетирование (без сортировки) не изменило величину эффекта и в 10 раз снизило дисперсию. (с 4.58  на обычной метрике до 0.46).\n",
        "\n",
        "Самое равномернорное распределение величины p_value было на лонормальной метрике без бакетирования. K-S статистика равна 0.76. Также ближе всего к заданному уровню ошибки в 0.05, значение корректности равняется 94.6. Мощность для всех 3-х случаев 100%.\n",
        "\n",
        "K-S, Мощность и корректнось:\n",
        "\n",
        "логнормальное распределение с бакетированием:\n",
        "- p_value = 0.263357108973473 - p_values равномерное распределение\n",
        "- power: 100.0% , correctness: 94.19999999999999%\n",
        "\n",
        "логнормальное распределение с бакетированием по сортировке:\n",
        "- p_value = 0.541204202914946 - p_values равномерное распределение\n",
        "- power: 100.0% , correctness: 96.3%\n",
        "\n",
        "просто логнормальное распределение:\n",
        "- p_value = 0.7635802748711191 - p_values равномерное распределение\n",
        "- power: 100.0% , correctness: 94.6%\n",
        "\n",
        "\n",
        "**На метрике cart_added_cnt:**\n",
        "\n",
        "\n",
        "T-test для cart_added_cnt с бакетированием, cart_added_cnt без бакетирования на одном уровне (p_value=0.2), cart_added_cnt с бакетированием по сортировке = 0.4, то есть тест не находит отличий там где их нет. Также как и среднее везде равно 0.14 для всех групп, как до бакетирования, так и после.\n",
        "\n",
        "Бакетирование (без сортировки) не изменило величину эффекта и в 4 раз снизило дисперсию. (с 0.38  на обычной метрике до 0.13). Бакетирование с соритировкой незначительно увеличило эффект и дисперсию.\n",
        "\n",
        "Мощность и корректность для метрики с бакетированием и без примерно на одном уровке, но немного лучше без бакетирования. K-S статистика равна 0.58. Также ближе всего к заданному уровню ошибки в 0.05, значение корректности равняется 95.2. Мощность 70%.\n",
        "\n",
        "Распределение p_value для метрики cart_added_cnt с бакетированием по сортировке явно неравномерное, поэтому его в расчет не берем.\n",
        "\n",
        "K-S, Мощность и корректнось:\n",
        "\n",
        "метрика cart_added_cnt с бакетированием:\n",
        "- p_value = 0.11238590407540583 - p_values равномерное распределение\n",
        "- power: 70.1% , correctness: 95.7%\n",
        "\n",
        "метрика cart_added_cnt с бакетированием по сортировке:\n",
        "- p_value = 1.4057247961602257e-52 - p_values неравномерное распределение\n",
        "- power: 18.0% , correctness: 99.8%\n",
        "\n",
        "метрика cart_added_cnt:\n",
        "- p_value = 0.589549030405886 - p_values равномерное распределение\n",
        "- power: 70.8% , correctness: 95.19999999999999%"
      ]
    },
    {
      "cell_type": "markdown",
      "metadata": {
        "id": "EJUZ_vv9-MMq"
      },
      "source": [
        "## 4. Реализовать постстратификацию на данных shop_metrics_old для метрики cart_added_cnt:"
      ]
    },
    {
      "cell_type": "markdown",
      "metadata": {
        "id": "SuvQKw_H-MjT"
      },
      "source": [
        "### - на сочетании пола и возраста (возраст разбить на подгруппы: 18-24, 25-45, 46-60, 61-75, 76+) (5 баллов)подсчитать результаты для случая без постстратификации и с постстратификацией"
      ]
    },
    {
      "cell_type": "markdown",
      "metadata": {
        "id": "cTKe072MbB5w"
      },
      "source": [
        "Реализуем стратификацию"
      ]
    },
    {
      "cell_type": "code",
      "execution_count": null,
      "metadata": {
        "colab": {
          "base_uri": "https://localhost:8080/",
          "height": 206
        },
        "id": "LUYOKhW-zOFw",
        "outputId": "3d1f8887-a530-4828-d766-4f127627d5f8"
      },
      "outputs": [
        {
          "data": {
            "text/html": [
              "<div>\n",
              "<style scoped>\n",
              "    .dataframe tbody tr th:only-of-type {\n",
              "        vertical-align: middle;\n",
              "    }\n",
              "\n",
              "    .dataframe tbody tr th {\n",
              "        vertical-align: top;\n",
              "    }\n",
              "\n",
              "    .dataframe thead th {\n",
              "        text-align: right;\n",
              "    }\n",
              "</style>\n",
              "<table border=\"1\" class=\"dataframe\">\n",
              "  <thead>\n",
              "    <tr style=\"text-align: right;\">\n",
              "      <th></th>\n",
              "      <th>user_id</th>\n",
              "      <th>user_age</th>\n",
              "      <th>user_sex</th>\n",
              "    </tr>\n",
              "  </thead>\n",
              "  <tbody>\n",
              "    <tr>\n",
              "      <th>0</th>\n",
              "      <td>1515915625519388267</td>\n",
              "      <td>41</td>\n",
              "      <td>f</td>\n",
              "    </tr>\n",
              "    <tr>\n",
              "      <th>1</th>\n",
              "      <td>1515915625519380411</td>\n",
              "      <td>84</td>\n",
              "      <td>m</td>\n",
              "    </tr>\n",
              "    <tr>\n",
              "      <th>2</th>\n",
              "      <td>1515915625513238515</td>\n",
              "      <td>41</td>\n",
              "      <td>m</td>\n",
              "    </tr>\n",
              "    <tr>\n",
              "      <th>3</th>\n",
              "      <td>1515915625519014356</td>\n",
              "      <td>25</td>\n",
              "      <td>m</td>\n",
              "    </tr>\n",
              "    <tr>\n",
              "      <th>4</th>\n",
              "      <td>1515915625510743344</td>\n",
              "      <td>42</td>\n",
              "      <td>m</td>\n",
              "    </tr>\n",
              "  </tbody>\n",
              "</table>\n",
              "</div>"
            ],
            "text/plain": [
              "               user_id  user_age user_sex\n",
              "0  1515915625519388267        41        f\n",
              "1  1515915625519380411        84        m\n",
              "2  1515915625513238515        41        m\n",
              "3  1515915625519014356        25        m\n",
              "4  1515915625510743344        42        m"
            ]
          },
          "execution_count": 63,
          "metadata": {},
          "output_type": "execute_result"
        }
      ],
      "source": [
        "shop_users_info.head()"
      ]
    },
    {
      "cell_type": "code",
      "execution_count": null,
      "metadata": {
        "id": "yucT8Gev28XN"
      },
      "outputs": [],
      "source": [
        "shop_w_features = pd.merge(shop_metrics_old, shop_users_info, on=['user_id'], how='left')"
      ]
    },
    {
      "cell_type": "code",
      "execution_count": null,
      "metadata": {
        "id": "B28wWHin28Jz"
      },
      "outputs": [],
      "source": [
        "age_bins = [18, 24, 45, 60, 75, float('inf')]\n",
        "age_labels = ['18-24', '25-45', '46-60', '61-75', '76+']\n",
        "\n",
        "shop_w_features['age_group'] = pd.cut(shop_w_features['user_age'], bins=age_bins, labels=age_labels, right=True, include_lowest=True)"
      ]
    },
    {
      "cell_type": "code",
      "execution_count": null,
      "metadata": {
        "colab": {
          "base_uri": "https://localhost:8080/",
          "height": 226
        },
        "id": "Uyd4Kq2i5MsW",
        "outputId": "35f09962-d094-4061-f984-b84abf53d9f5"
      },
      "outputs": [
        {
          "data": {
            "text/html": [
              "<div>\n",
              "<style scoped>\n",
              "    .dataframe tbody tr th:only-of-type {\n",
              "        vertical-align: middle;\n",
              "    }\n",
              "\n",
              "    .dataframe tbody tr th {\n",
              "        vertical-align: top;\n",
              "    }\n",
              "\n",
              "    .dataframe thead th {\n",
              "        text-align: right;\n",
              "    }\n",
              "</style>\n",
              "<table border=\"1\" class=\"dataframe\">\n",
              "  <thead>\n",
              "    <tr style=\"text-align: right;\">\n",
              "      <th></th>\n",
              "      <th>user_id</th>\n",
              "      <th>group</th>\n",
              "      <th>is_viewed</th>\n",
              "      <th>products_viewed_cnt</th>\n",
              "      <th>price_sum</th>\n",
              "      <th>is_cart_added</th>\n",
              "      <th>is_purchased</th>\n",
              "      <th>cart_added_cnt</th>\n",
              "      <th>purchased_cnt</th>\n",
              "      <th>user_age</th>\n",
              "      <th>user_sex</th>\n",
              "      <th>age_group</th>\n",
              "    </tr>\n",
              "  </thead>\n",
              "  <tbody>\n",
              "    <tr>\n",
              "      <th>0</th>\n",
              "      <td>1515915625353226922</td>\n",
              "      <td>B</td>\n",
              "      <td>1</td>\n",
              "      <td>1</td>\n",
              "      <td>76.48</td>\n",
              "      <td>0.0</td>\n",
              "      <td>0.0</td>\n",
              "      <td>0</td>\n",
              "      <td>0</td>\n",
              "      <td>55</td>\n",
              "      <td>f</td>\n",
              "      <td>46-60</td>\n",
              "    </tr>\n",
              "    <tr>\n",
              "      <th>1</th>\n",
              "      <td>1515915625353230067</td>\n",
              "      <td>A</td>\n",
              "      <td>1</td>\n",
              "      <td>1</td>\n",
              "      <td>28.98</td>\n",
              "      <td>0.0</td>\n",
              "      <td>0.0</td>\n",
              "      <td>0</td>\n",
              "      <td>0</td>\n",
              "      <td>58</td>\n",
              "      <td>m</td>\n",
              "      <td>46-60</td>\n",
              "    </tr>\n",
              "    <tr>\n",
              "      <th>2</th>\n",
              "      <td>1515915625353230683</td>\n",
              "      <td>A</td>\n",
              "      <td>1</td>\n",
              "      <td>10</td>\n",
              "      <td>592.21</td>\n",
              "      <td>0.0</td>\n",
              "      <td>0.0</td>\n",
              "      <td>0</td>\n",
              "      <td>0</td>\n",
              "      <td>23</td>\n",
              "      <td>f</td>\n",
              "      <td>18-24</td>\n",
              "    </tr>\n",
              "    <tr>\n",
              "      <th>3</th>\n",
              "      <td>1515915625353230922</td>\n",
              "      <td>A</td>\n",
              "      <td>1</td>\n",
              "      <td>1</td>\n",
              "      <td>274.40</td>\n",
              "      <td>0.0</td>\n",
              "      <td>0.0</td>\n",
              "      <td>0</td>\n",
              "      <td>0</td>\n",
              "      <td>33</td>\n",
              "      <td>m</td>\n",
              "      <td>25-45</td>\n",
              "    </tr>\n",
              "    <tr>\n",
              "      <th>4</th>\n",
              "      <td>1515915625353234047</td>\n",
              "      <td>A</td>\n",
              "      <td>1</td>\n",
              "      <td>14</td>\n",
              "      <td>1857.94</td>\n",
              "      <td>0.0</td>\n",
              "      <td>0.0</td>\n",
              "      <td>0</td>\n",
              "      <td>0</td>\n",
              "      <td>26</td>\n",
              "      <td>f</td>\n",
              "      <td>25-45</td>\n",
              "    </tr>\n",
              "  </tbody>\n",
              "</table>\n",
              "</div>"
            ],
            "text/plain": [
              "               user_id group  is_viewed  products_viewed_cnt  price_sum  \\\n",
              "0  1515915625353226922     B          1                    1      76.48   \n",
              "1  1515915625353230067     A          1                    1      28.98   \n",
              "2  1515915625353230683     A          1                   10     592.21   \n",
              "3  1515915625353230922     A          1                    1     274.40   \n",
              "4  1515915625353234047     A          1                   14    1857.94   \n",
              "\n",
              "   is_cart_added  is_purchased  cart_added_cnt  purchased_cnt  user_age  \\\n",
              "0            0.0           0.0               0              0        55   \n",
              "1            0.0           0.0               0              0        58   \n",
              "2            0.0           0.0               0              0        23   \n",
              "3            0.0           0.0               0              0        33   \n",
              "4            0.0           0.0               0              0        26   \n",
              "\n",
              "  user_sex age_group  \n",
              "0        f     46-60  \n",
              "1        m     46-60  \n",
              "2        f     18-24  \n",
              "3        m     25-45  \n",
              "4        f     25-45  "
            ]
          },
          "execution_count": 66,
          "metadata": {},
          "output_type": "execute_result"
        }
      ],
      "source": [
        "shop_w_features.head()"
      ]
    },
    {
      "cell_type": "code",
      "execution_count": null,
      "metadata": {
        "colab": {
          "base_uri": "https://localhost:8080/",
          "height": 797
        },
        "id": "StIZLGLH6MNH",
        "outputId": "f40ecedf-21fb-4f86-bd6b-9a817d77abed"
      },
      "outputs": [
        {
          "data": {
            "text/plain": [
              "group  age_group  user_sex\n",
              "A      18-24      f            8503\n",
              "                  m           12890\n",
              "       25-45      f           25540\n",
              "                  m           38432\n",
              "       46-60      f           18336\n",
              "                  m           27321\n",
              "       61-75      f           17939\n",
              "                  m           27001\n",
              "       76+        f           11125\n",
              "                  m           16249\n",
              "B      18-24      f            8449\n",
              "                  m           12816\n",
              "       25-45      f           25439\n",
              "                  m           38490\n",
              "       46-60      f           18111\n",
              "                  m           27283\n",
              "       61-75      f           18246\n",
              "                  m           27249\n",
              "       76+        f           11082\n",
              "                  m           16362\n",
              "Name: cart_added_cnt, dtype: int64"
            ]
          },
          "execution_count": 67,
          "metadata": {},
          "output_type": "execute_result"
        }
      ],
      "source": [
        "shop_w_features.groupby(['group', 'age_group', 'user_sex'])['cart_added_cnt'].count()"
      ]
    },
    {
      "cell_type": "markdown",
      "metadata": {
        "id": "sr1qUYFt8K4U"
      },
      "source": [
        "Теперь применим стратификацию и посмотрим, что получится"
      ]
    },
    {
      "cell_type": "code",
      "execution_count": null,
      "metadata": {
        "id": "-uQqK9UKBAZA"
      },
      "outputs": [],
      "source": [
        "# Уникальные пользователи\n",
        "N = shop_w_features['user_id'].nunique()\n",
        "\n",
        "# Весовые коэффициенты для каждой комбинации возрастной группы и пола\n",
        "strats_weights = shop_w_features.groupby(['age_group', 'user_sex']).size() / N\n",
        "\n",
        "# Расчет среднего и стандартного отклонения с учетом возрастной группы и пола\n",
        "def calculate_mean_std(df, group, sex, age_group):\n",
        "    subset = df[(df['group'] == group) &\n",
        "                             (df['user_sex'] == sex) &\n",
        "                             (df['age_group'] == age_group)]\n",
        "    mean = subset['cart_added_cnt'].mean() * strats_weights.get((age_group, sex), 0)\n",
        "    std = (subset['cart_added_cnt'].std()**2 * strats_weights.get((age_group, sex), 0)) **0.5\n",
        "    return mean, std\n",
        "\n",
        "mean_a, std_a = 0, 0\n",
        "mean_b, std_b = 0, 0\n",
        "\n",
        "for age_group in age_labels:\n",
        "    for sex in ['f', 'm']:\n",
        "        mean_a_temp, std_a_temp = calculate_mean_std(shop_w_features, 'A', sex, age_group)\n",
        "        mean_b_temp, std_b_temp = calculate_mean_std(shop_w_features, 'B', sex, age_group)\n",
        "\n",
        "        mean_a += mean_a_temp\n",
        "        std_a += std_a_temp\n",
        "\n",
        "        mean_b += mean_b_temp\n",
        "        std_b += std_b_temp\n",
        "\n",
        "n_a = len(shop_w_features[shop_w_features.group == 'A'])\n",
        "n_b = len(shop_w_features[shop_w_features.group == 'B'])"
      ]
    },
    {
      "cell_type": "markdown",
      "metadata": {
        "id": "lmsML3wUbB5w"
      },
      "source": [
        "Статистика для постатификации"
      ]
    },
    {
      "cell_type": "code",
      "execution_count": null,
      "metadata": {
        "colab": {
          "base_uri": "https://localhost:8080/"
        },
        "outputId": "d252d158-4a73-49a4-ddec-4145703197a1",
        "id": "eJw7UMp2bB5w"
      },
      "outputs": [
        {
          "name": "stdout",
          "output_type": "stream",
          "text": [
            "mean_a: 0.12020759878965362, mean_b: 0.12155860116106687, effect: 1.1238909894351314, var_a: 3.1026851273428417, var_b: 3.337451082118945\n"
          ]
        }
      ],
      "source": [
        "print(f'mean_a: {mean_a}, mean_b: {mean_b}, effect: {(mean_b - mean_a)/mean_a*100}, var_a: {std_a ** 2}, var_b: {std_b ** 2}')"
      ]
    },
    {
      "cell_type": "markdown",
      "metadata": {
        "id": "voSlmcHnbB5w"
      },
      "source": [
        "Статистика для обычной метрики"
      ]
    },
    {
      "cell_type": "code",
      "execution_count": null,
      "metadata": {
        "id": "7KXdGfBmbB5w",
        "outputId": "6b420d6e-e82a-4f8b-80dc-dd432f321270"
      },
      "outputs": [
        {
          "name": "stdout",
          "output_type": "stream",
          "text": [
            "mean_a =  0.1202000629499941 mean_b =  0.12155144034943767 effect = 1.1242734540045785 var_a = 0.3325703408731364 var_b = 0.35851900453600644\n"
          ]
        }
      ],
      "source": [
        "print('mean_a = ', shop_w_features[shop_w_features.group == 'A']['cart_added_cnt'].mean(),\n",
        "      'mean_b = ', shop_w_features[shop_w_features.group == 'B']['cart_added_cnt'].mean(),\n",
        "      'effect =', (shop_w_features[shop_w_features.group == 'B']['cart_added_cnt'].mean() - shop_w_features[shop_w_features.group == 'A']['cart_added_cnt'].mean()) \\\n",
        "    /shop_w_features[shop_w_features.group == 'A']['cart_added_cnt'].mean() * 100,\n",
        "    'var_a =', shop_w_features[shop_w_features.group == 'A']['cart_added_cnt'].std() ** 2,\n",
        "    'var_b =', shop_w_features[shop_w_features.group == 'B']['cart_added_cnt'].std() ** 2)"
      ]
    },
    {
      "cell_type": "markdown",
      "metadata": {
        "id": "GiQ6PQpIbB5w"
      },
      "source": [
        "Постатификация ttest"
      ]
    },
    {
      "cell_type": "code",
      "execution_count": null,
      "metadata": {
        "colab": {
          "base_uri": "https://localhost:8080/"
        },
        "outputId": "d252d158-4a73-49a4-ddec-4145703197a1",
        "id": "_Wf9N1HtbB5w"
      },
      "outputs": [
        {
          "data": {
            "text/plain": [
              "Ttest_indResult(statistic=np.float64(-0.24011203126280783), pvalue=np.float64(0.8102435283828248))"
            ]
          },
          "execution_count": 84,
          "metadata": {},
          "output_type": "execute_result"
        }
      ],
      "source": [
        "stats.ttest_ind_from_stats(mean_a, std_a, n_a, mean_b, std_b, n_b)"
      ]
    },
    {
      "cell_type": "markdown",
      "metadata": {
        "id": "BFuvyX-jbB5w"
      },
      "source": [
        "ttest для обычной метрики"
      ]
    },
    {
      "cell_type": "code",
      "execution_count": null,
      "metadata": {
        "colab": {
          "base_uri": "https://localhost:8080/"
        },
        "id": "T3_YlrcBPZKU",
        "outputId": "82f5e7e6-87d4-4634-b8ea-9679ba3a8b55"
      },
      "outputs": [
        {
          "data": {
            "text/plain": [
              "np.float64(0.4634447828246868)"
            ]
          },
          "execution_count": 85,
          "metadata": {},
          "output_type": "execute_result"
        }
      ],
      "source": [
        "stats.ttest_ind(shop_w_features[shop_w_features['group'] == 'A']['cart_added_cnt'],\n",
        "                shop_w_features[shop_w_features['group'] == 'B']['cart_added_cnt'])[1]"
      ]
    },
    {
      "cell_type": "markdown",
      "metadata": {
        "id": "S9AewLzX-M8a"
      },
      "source": [
        "### - проверить мощность и корректность t-критерия для постстратифицированного случая (5 баллов)"
      ]
    },
    {
      "cell_type": "code",
      "execution_count": null,
      "metadata": {
        "id": "z3oCnBUSXyvQ"
      },
      "outputs": [],
      "source": [
        "# Расчет среднего и стандартного отклонения с учетом возрастной группы и пола\n",
        "def calculate_mean_std_effect(df, group, sex, age_group):\n",
        "    subset = df[(df['group'] == group) &\n",
        "                             (df['user_sex'] == sex) &\n",
        "                             (df['age_group'] == age_group)]\n",
        "    mean = (subset['cart_added_cnt'] * 1.05).mean() * strats_weights.get((age_group, sex), 0)\n",
        "    std = ((subset['cart_added_cnt'] * 1.05).std()**2 * strats_weights.get((age_group, sex), 0))\n",
        "    return mean, std"
      ]
    },
    {
      "cell_type": "code",
      "execution_count": null,
      "metadata": {
        "colab": {
          "base_uri": "https://localhost:8080/",
          "height": 1000
        },
        "id": "5FaKiqXCSW1u",
        "outputId": "bf29504b-6f3f-4514-c7bc-f5c5cb369d4f"
      },
      "outputs": [
        {
          "name": "stderr",
          "output_type": "stream",
          "text": [
            "100%|███████████████████████████████████████| 1000/1000 [04:09<00:00,  4.02it/s]\n"
          ]
        }
      ],
      "source": [
        "# Уникальные пользователи\n",
        "N = shop_w_features['user_id'].nunique()\n",
        "\n",
        "# Весовые коэффициенты для каждой комбинации возрастной группы и пола\n",
        "strats_weights = shop_w_features.groupby(['age_group', 'user_sex']).size() / N\n",
        "\n",
        "age_bins = [18, 24, 45, 60, 75, float('inf')]\n",
        "\n",
        "age_labels = ['18-24', '25-45', '46-60', '61-75', '76+']\n",
        "\n",
        "def process_iteration(i):\n",
        "    # Генерация новых групп A и B\n",
        "    new_group = groups_splitter(shop_w_features.drop('group', axis=1).copy(),\n",
        "                                user_salt=salt_generator())\n",
        "    new_df = pd.merge(shop_w_features.drop('group', axis=1), new_group, how=\"left\", on=['user_id']).drop_duplicates()\n",
        "    # Разделение данных на группы A и B\n",
        "\n",
        "    mean_a, std_a = 0, 0\n",
        "    mean_b, std_b = 0, 0\n",
        "\n",
        "    for age_group in age_labels:\n",
        "        for sex in ['f', 'm']:\n",
        "            mean_a_temp, std_a_temp = calculate_mean_std(new_df, 'A', sex, age_group)\n",
        "            mean_b_temp, std_b_temp = calculate_mean_std(new_df, 'B', sex, age_group)\n",
        "\n",
        "            mean_a += mean_a_temp\n",
        "            std_a += std_a_temp\n",
        "\n",
        "            mean_b += mean_b_temp\n",
        "            std_b += std_b_temp\n",
        "\n",
        "    n_a = len(new_df[new_df.group == 'A'])\n",
        "    n_b = len(new_df[new_df.group == 'B'])\n",
        "\n",
        "    p_cor = stats.ttest_ind_from_stats(mean_a, std_a, n_a, mean_b, std_b, n_b)[1]\n",
        "\n",
        "\n",
        "    mean_b_eff, std_b_eff = 0, 0\n",
        "\n",
        "    for age_group in age_labels:\n",
        "        for sex in ['f', 'm']:\n",
        "\n",
        "            mean_b_temp, std_b_temp = calculate_mean_std_effect(new_df, 'B', sex, age_group)\n",
        "\n",
        "            mean_b_eff += mean_b_temp\n",
        "\n",
        "            std_b_eff += std_b_temp\n",
        "\n",
        "    n_b_eff = len(new_df[new_df.group == 'B'])\n",
        "\n",
        "    p_power = stats.ttest_ind_from_stats(mean_a, std_a, n_a, mean_b_eff, std_b_eff, n_b_eff)[1]\n",
        "\n",
        "    return p_cor, p_power\n",
        "\n",
        "# Параллельное выполнение итераций\n",
        "results = Parallel(n_jobs=-1)(\n",
        "    delayed(process_iteration)(i) for i in tqdm(range(NUM_ITERATIONS))\n",
        ")\n",
        "\n",
        "# Извлечение результатов\n",
        "correctness = np.array([res[0] for res in results])\n",
        "power = np.array([res[1] for res in results])"
      ]
    },
    {
      "cell_type": "code",
      "execution_count": null,
      "metadata": {
        "colab": {
          "base_uri": "https://localhost:8080/",
          "height": 1000
        },
        "outputId": "bf29504b-6f3f-4514-c7bc-f5c5cb369d4f",
        "id": "v5fZ-OFLbB5y"
      },
      "outputs": [
        {
          "name": "stdout",
          "output_type": "stream",
          "text": [
            "p_value = 4.298951483712962e-213 - p_values неравномерное распределение\n",
            "power: 18.3% , correctness: 100.0%\n"
          ]
        },
        {
          "data": {
            "image/png": "[encoded data removed]",
            "text/plain": [
              "<Figure size 800x600 with 1 Axes>"
            ]
          },
          "metadata": {},
          "output_type": "display_data"
        }
      ],
      "source": [
        "# Визуализация\n",
        "sns.set(rc={'figure.figsize': (8, 6)})\n",
        "sns.histplot(data=correctness, bins=10, color='blue', kde=True)\n",
        "sns.despine()\n",
        "\n",
        "stat, p_value = scipy.stats.kstest(correctness, scipy.stats.uniform(loc=0.0, scale=1.0).cdf)\n",
        "\n",
        "if p_value < 0.05:\n",
        "    print(f'p_value = {p_value} - p_values неравномерное распределение')\n",
        "else:\n",
        "    print(f'p_value = {p_value} - p_values равномерное распределение')\n",
        "\n",
        "# Расчет мощности и корректности\n",
        "power = (np.sum(power < 0.05) / len(power)) * 100\n",
        "correctness = (1 - (np.sum(correctness < 0.05) / len(correctness))) * 100\n",
        "\n",
        "print(f'power: {power}% , correctness: {correctness}%')"
      ]
    },
    {
      "cell_type": "code",
      "execution_count": null,
      "metadata": {
        "colab": {
          "base_uri": "https://localhost:8080/",
          "height": 1000
        },
        "id": "m145RxrIMr4h",
        "outputId": "9e40a822-4fa8-4a62-fb47-9c65d3fb6d19"
      },
      "outputs": [
        {
          "name": "stderr",
          "output_type": "stream",
          "text": [
            "100%|███████████████████████████████████████| 1000/1000 [02:04<00:00,  8.06it/s]\n"
          ]
        }
      ],
      "source": [
        "def process_iteration(i):\n",
        "    # Генерация новых групп A и B\n",
        "    new_group = groups_splitter(shop_w_features.drop('group', axis=1).copy(),\n",
        "                                user_salt=salt_generator())\n",
        "    new_df = pd.merge(shop_w_features.drop('group', axis=1), new_group, how=\"left\", on=['user_id']).drop_duplicates()\n",
        "    # Разделение данных на группы A и B\n",
        "    vec_a = new_df[new_df['group'] == 'A']['cart_added_cnt']\n",
        "    vec_b = new_df[new_df['group'] == 'B']['cart_added_cnt']\n",
        "\n",
        "    # Применение эффекта к группе B\n",
        "    vec_b_effect = vec_b * 1.05\n",
        "\n",
        "    # Вычисление p-значений с помощью t-теста\n",
        "    p_cor = stats.ttest_ind(vec_a, vec_b)[1]\n",
        "    p_power = stats.ttest_ind(vec_a, vec_b_effect)[1]\n",
        "\n",
        "    return p_cor, p_power\n",
        "\n",
        "# Параллельное выполнение итераций\n",
        "results = Parallel(n_jobs=-1)(\n",
        "    delayed(process_iteration)(i) for i in tqdm(range(NUM_ITERATIONS))\n",
        ")\n",
        "\n",
        "# Извлечение результатов\n",
        "correctness = np.array([res[0] for res in results])\n",
        "power = np.array([res[1] for res in results])"
      ]
    },
    {
      "cell_type": "code",
      "execution_count": null,
      "metadata": {
        "colab": {
          "base_uri": "https://localhost:8080/",
          "height": 1000
        },
        "outputId": "9e40a822-4fa8-4a62-fb47-9c65d3fb6d19",
        "id": "GIXIZJMNbB5y"
      },
      "outputs": [
        {
          "name": "stdout",
          "output_type": "stream",
          "text": [
            "p_value = 0.15447520714777407 - p_values равномерное распределение\n",
            "power: 89.5% , correctness: 96.8%\n"
          ]
        },
        {
          "data": {
            "image/png": "[encoded data removed]",
            "text/plain": [
              "<Figure size 800x600 with 1 Axes>"
            ]
          },
          "metadata": {},
          "output_type": "display_data"
        }
      ],
      "source": [
        "# Визуализация\n",
        "sns.set(rc={'figure.figsize': (8, 6)})\n",
        "sns.histplot(data=correctness, bins=10, color='blue', kde=True)\n",
        "sns.despine()\n",
        "\n",
        "stat, p_value = scipy.stats.kstest(correctness, scipy.stats.uniform(loc=0.0, scale=1.0).cdf)\n",
        "\n",
        "if p_value < 0.05:\n",
        "    print(f'p_value = {p_value} - p_values неравномерное распределение')\n",
        "else:\n",
        "    print(f'p_value = {p_value} - p_values равномерное распределение')\n",
        "\n",
        "# Расчет мощности и корректности\n",
        "power = (np.sum(power < 0.05) / len(power)) * 100\n",
        "correctness = (1 - (np.sum(correctness < 0.05) / len(correctness))) * 100\n",
        "\n",
        "print(f'power: {power}% , correctness: {correctness}%')"
      ]
    },
    {
      "cell_type": "markdown",
      "metadata": {
        "id": "4J9o80bN6bhq"
      },
      "source": [
        "### Вывод\n",
        "\n",
        "**Для постратификации:**\n",
        "\n",
        "T-test для постратификации = 0.8 и без ttest = 0.46, то есть тест не находит отличий там где их нет. Также как и среднее везде равно 0.12 для всех групп, как до постратификации, так и после.\n",
        "\n",
        "Постратификация не изменила величину эффекта и в 10 раз увеличило дисперсию. (с 0.33  на обычной метрике до 3.10).\n",
        "\n",
        "Величина K-S распределения показывает, что распределение p_value при применении постатификации неравномерное. Также имеет слабую мощность (18%) и корректность (100%).\n",
        "\n",
        "Равномернорное распределение величины p_value было на метрике без постратификации. K-S статистика равна 0.15. Также ближе всего к заданному уровню ошибки в 0.05, значение корректности равняется 96.8. Мощность 89.5%.\n",
        "\n",
        "K-S, Мощность и корректнось:\n",
        "\n",
        "Постратификация:\n",
        "- p_value = 4.298951483712962e-213 - p_values неравномерное распределение\n",
        "- power: 18.3% , correctness: 100.0%\n",
        "\n",
        "Без постратификации:\n",
        "- p_value = 0.15447520714777407 - p_values равномерное распределение\n",
        "- power: 89.5% , correctness: 96.8%"
      ]
    }
  ],
  "metadata": {
    "colab": {
      "provenance": []
    },
    "kernelspec": {
      "display_name": "Python (myenv)",
      "language": "python",
      "name": "myenv"
    },
    "language_info": {
      "codemirror_mode": {
        "name": "ipython",
        "version": 3
      },
      "file_extension": ".py",
      "mimetype": "text/x-python",
      "name": "python",
      "nbconvert_exporter": "python",
      "pygments_lexer": "ipython3",
      "version": "3.13.1"
    }
  },
  "nbformat": 4,
  "nbformat_minor": 0
}
